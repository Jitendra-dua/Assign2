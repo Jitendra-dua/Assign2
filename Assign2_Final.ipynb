{
 "cells": [
  {
   "cell_type": "markdown",
   "metadata": {},
   "source": [
    "## House Pricing Assignment"
   ]
  },
  {
   "cell_type": "markdown",
   "metadata": {},
   "source": [
    "### Problem Statement:\n",
    "A US-based housing company named Surprise Housing has decided to enter the Australian market. The company uses <I> data analytics</I> to purchase houses at a price below their actual values and flip them on at a higher price. For the same purpose, the company has collected a data set from the sale of houses in Australia. The data is provided in the CSV file below.\n",
    "\n",
    "The company is looking at prospective properties to buy to enter the market. It is required to build a regression model using regularisation in order to predict the actual value of the prospective properties and decide whether to invest in them or not.\n",
    "\n",
    "\n",
    "The company wants to know about the variables which are significant in predicting the price of a house, and how well those variables describe the price of a house. Also,it is required to determine the optimal value of lambda for ridge and lasso regression.\n",
    "\n",
    " \n",
    "\n",
    "Business Goal: To model the price of houses with the available independent variables. This model will then be used by the management to understand how exactly the prices vary with the variables. They can accordingly manipulate the strategy of the firm and concentrate on areas that will yield high returns. Further, the model will be a good way for management to understand the pricing dynamics of a new market.\n"
   ]
  },
  {
   "cell_type": "code",
   "execution_count": 1,
   "metadata": {},
   "outputs": [],
   "source": [
    "# Importing the required libraries\n",
    "\n",
    "import numpy as np\n",
    "import pandas as pd\n",
    "import matplotlib.pyplot as plt\n",
    "import seaborn as sns\n",
    "from sklearn.linear_model import LinearRegression\n",
    "from sklearn.metrics import r2_score, mean_squared_error\n",
    "\n",
    "from sklearn.preprocessing import PolynomialFeatures, MinMaxScaler\n",
    "from sklearn.linear_model import LinearRegression, Ridge, Lasso\n",
    "\n",
    "\n",
    "import warnings\n",
    "warnings.filterwarnings('ignore')\n"
   ]
  },
  {
   "cell_type": "markdown",
   "metadata": {},
   "source": [
    "#### Retrieving data"
   ]
  },
  {
   "cell_type": "code",
   "execution_count": 2,
   "metadata": {},
   "outputs": [],
   "source": [
    "\n",
    "df = pd.read_csv('train.csv')"
   ]
  },
  {
   "cell_type": "markdown",
   "metadata": {},
   "source": [
    "#### Visual inspection"
   ]
  },
  {
   "cell_type": "code",
   "execution_count": 3,
   "metadata": {},
   "outputs": [
    {
     "data": {
      "text/html": [
       "<div>\n",
       "<style scoped>\n",
       "    .dataframe tbody tr th:only-of-type {\n",
       "        vertical-align: middle;\n",
       "    }\n",
       "\n",
       "    .dataframe tbody tr th {\n",
       "        vertical-align: top;\n",
       "    }\n",
       "\n",
       "    .dataframe thead th {\n",
       "        text-align: right;\n",
       "    }\n",
       "</style>\n",
       "<table border=\"1\" class=\"dataframe\">\n",
       "  <thead>\n",
       "    <tr style=\"text-align: right;\">\n",
       "      <th></th>\n",
       "      <th>Id</th>\n",
       "      <th>MSSubClass</th>\n",
       "      <th>MSZoning</th>\n",
       "      <th>LotFrontage</th>\n",
       "      <th>LotArea</th>\n",
       "      <th>Street</th>\n",
       "      <th>Alley</th>\n",
       "      <th>LotShape</th>\n",
       "      <th>LandContour</th>\n",
       "      <th>Utilities</th>\n",
       "      <th>...</th>\n",
       "      <th>PoolArea</th>\n",
       "      <th>PoolQC</th>\n",
       "      <th>Fence</th>\n",
       "      <th>MiscFeature</th>\n",
       "      <th>MiscVal</th>\n",
       "      <th>MoSold</th>\n",
       "      <th>YrSold</th>\n",
       "      <th>SaleType</th>\n",
       "      <th>SaleCondition</th>\n",
       "      <th>SalePrice</th>\n",
       "    </tr>\n",
       "  </thead>\n",
       "  <tbody>\n",
       "    <tr>\n",
       "      <th>0</th>\n",
       "      <td>1</td>\n",
       "      <td>60</td>\n",
       "      <td>RL</td>\n",
       "      <td>65.0</td>\n",
       "      <td>8450</td>\n",
       "      <td>Pave</td>\n",
       "      <td>NaN</td>\n",
       "      <td>Reg</td>\n",
       "      <td>Lvl</td>\n",
       "      <td>AllPub</td>\n",
       "      <td>...</td>\n",
       "      <td>0</td>\n",
       "      <td>NaN</td>\n",
       "      <td>NaN</td>\n",
       "      <td>NaN</td>\n",
       "      <td>0</td>\n",
       "      <td>2</td>\n",
       "      <td>2008</td>\n",
       "      <td>WD</td>\n",
       "      <td>Normal</td>\n",
       "      <td>208500</td>\n",
       "    </tr>\n",
       "    <tr>\n",
       "      <th>1</th>\n",
       "      <td>2</td>\n",
       "      <td>20</td>\n",
       "      <td>RL</td>\n",
       "      <td>80.0</td>\n",
       "      <td>9600</td>\n",
       "      <td>Pave</td>\n",
       "      <td>NaN</td>\n",
       "      <td>Reg</td>\n",
       "      <td>Lvl</td>\n",
       "      <td>AllPub</td>\n",
       "      <td>...</td>\n",
       "      <td>0</td>\n",
       "      <td>NaN</td>\n",
       "      <td>NaN</td>\n",
       "      <td>NaN</td>\n",
       "      <td>0</td>\n",
       "      <td>5</td>\n",
       "      <td>2007</td>\n",
       "      <td>WD</td>\n",
       "      <td>Normal</td>\n",
       "      <td>181500</td>\n",
       "    </tr>\n",
       "    <tr>\n",
       "      <th>2</th>\n",
       "      <td>3</td>\n",
       "      <td>60</td>\n",
       "      <td>RL</td>\n",
       "      <td>68.0</td>\n",
       "      <td>11250</td>\n",
       "      <td>Pave</td>\n",
       "      <td>NaN</td>\n",
       "      <td>IR1</td>\n",
       "      <td>Lvl</td>\n",
       "      <td>AllPub</td>\n",
       "      <td>...</td>\n",
       "      <td>0</td>\n",
       "      <td>NaN</td>\n",
       "      <td>NaN</td>\n",
       "      <td>NaN</td>\n",
       "      <td>0</td>\n",
       "      <td>9</td>\n",
       "      <td>2008</td>\n",
       "      <td>WD</td>\n",
       "      <td>Normal</td>\n",
       "      <td>223500</td>\n",
       "    </tr>\n",
       "    <tr>\n",
       "      <th>3</th>\n",
       "      <td>4</td>\n",
       "      <td>70</td>\n",
       "      <td>RL</td>\n",
       "      <td>60.0</td>\n",
       "      <td>9550</td>\n",
       "      <td>Pave</td>\n",
       "      <td>NaN</td>\n",
       "      <td>IR1</td>\n",
       "      <td>Lvl</td>\n",
       "      <td>AllPub</td>\n",
       "      <td>...</td>\n",
       "      <td>0</td>\n",
       "      <td>NaN</td>\n",
       "      <td>NaN</td>\n",
       "      <td>NaN</td>\n",
       "      <td>0</td>\n",
       "      <td>2</td>\n",
       "      <td>2006</td>\n",
       "      <td>WD</td>\n",
       "      <td>Abnorml</td>\n",
       "      <td>140000</td>\n",
       "    </tr>\n",
       "    <tr>\n",
       "      <th>4</th>\n",
       "      <td>5</td>\n",
       "      <td>60</td>\n",
       "      <td>RL</td>\n",
       "      <td>84.0</td>\n",
       "      <td>14260</td>\n",
       "      <td>Pave</td>\n",
       "      <td>NaN</td>\n",
       "      <td>IR1</td>\n",
       "      <td>Lvl</td>\n",
       "      <td>AllPub</td>\n",
       "      <td>...</td>\n",
       "      <td>0</td>\n",
       "      <td>NaN</td>\n",
       "      <td>NaN</td>\n",
       "      <td>NaN</td>\n",
       "      <td>0</td>\n",
       "      <td>12</td>\n",
       "      <td>2008</td>\n",
       "      <td>WD</td>\n",
       "      <td>Normal</td>\n",
       "      <td>250000</td>\n",
       "    </tr>\n",
       "  </tbody>\n",
       "</table>\n",
       "<p>5 rows × 81 columns</p>\n",
       "</div>"
      ],
      "text/plain": [
       "   Id  MSSubClass MSZoning  LotFrontage  LotArea Street Alley LotShape  \\\n",
       "0   1          60       RL         65.0     8450   Pave   NaN      Reg   \n",
       "1   2          20       RL         80.0     9600   Pave   NaN      Reg   \n",
       "2   3          60       RL         68.0    11250   Pave   NaN      IR1   \n",
       "3   4          70       RL         60.0     9550   Pave   NaN      IR1   \n",
       "4   5          60       RL         84.0    14260   Pave   NaN      IR1   \n",
       "\n",
       "  LandContour Utilities  ... PoolArea PoolQC Fence MiscFeature MiscVal MoSold  \\\n",
       "0         Lvl    AllPub  ...        0    NaN   NaN         NaN       0      2   \n",
       "1         Lvl    AllPub  ...        0    NaN   NaN         NaN       0      5   \n",
       "2         Lvl    AllPub  ...        0    NaN   NaN         NaN       0      9   \n",
       "3         Lvl    AllPub  ...        0    NaN   NaN         NaN       0      2   \n",
       "4         Lvl    AllPub  ...        0    NaN   NaN         NaN       0     12   \n",
       "\n",
       "  YrSold  SaleType  SaleCondition  SalePrice  \n",
       "0   2008        WD         Normal     208500  \n",
       "1   2007        WD         Normal     181500  \n",
       "2   2008        WD         Normal     223500  \n",
       "3   2006        WD        Abnorml     140000  \n",
       "4   2008        WD         Normal     250000  \n",
       "\n",
       "[5 rows x 81 columns]"
      ]
     },
     "execution_count": 3,
     "metadata": {},
     "output_type": "execute_result"
    }
   ],
   "source": [
    "df.head()"
   ]
  },
  {
   "cell_type": "code",
   "execution_count": 4,
   "metadata": {},
   "outputs": [
    {
     "name": "stdout",
     "output_type": "stream",
     "text": [
      "<class 'pandas.core.frame.DataFrame'>\n",
      "RangeIndex: 1460 entries, 0 to 1459\n",
      "Data columns (total 81 columns):\n",
      " #   Column         Non-Null Count  Dtype  \n",
      "---  ------         --------------  -----  \n",
      " 0   Id             1460 non-null   int64  \n",
      " 1   MSSubClass     1460 non-null   int64  \n",
      " 2   MSZoning       1460 non-null   object \n",
      " 3   LotFrontage    1201 non-null   float64\n",
      " 4   LotArea        1460 non-null   int64  \n",
      " 5   Street         1460 non-null   object \n",
      " 6   Alley          91 non-null     object \n",
      " 7   LotShape       1460 non-null   object \n",
      " 8   LandContour    1460 non-null   object \n",
      " 9   Utilities      1460 non-null   object \n",
      " 10  LotConfig      1460 non-null   object \n",
      " 11  LandSlope      1460 non-null   object \n",
      " 12  Neighborhood   1460 non-null   object \n",
      " 13  Condition1     1460 non-null   object \n",
      " 14  Condition2     1460 non-null   object \n",
      " 15  BldgType       1460 non-null   object \n",
      " 16  HouseStyle     1460 non-null   object \n",
      " 17  OverallQual    1460 non-null   int64  \n",
      " 18  OverallCond    1460 non-null   int64  \n",
      " 19  YearBuilt      1460 non-null   int64  \n",
      " 20  YearRemodAdd   1460 non-null   int64  \n",
      " 21  RoofStyle      1460 non-null   object \n",
      " 22  RoofMatl       1460 non-null   object \n",
      " 23  Exterior1st    1460 non-null   object \n",
      " 24  Exterior2nd    1460 non-null   object \n",
      " 25  MasVnrType     1452 non-null   object \n",
      " 26  MasVnrArea     1452 non-null   float64\n",
      " 27  ExterQual      1460 non-null   object \n",
      " 28  ExterCond      1460 non-null   object \n",
      " 29  Foundation     1460 non-null   object \n",
      " 30  BsmtQual       1423 non-null   object \n",
      " 31  BsmtCond       1423 non-null   object \n",
      " 32  BsmtExposure   1422 non-null   object \n",
      " 33  BsmtFinType1   1423 non-null   object \n",
      " 34  BsmtFinSF1     1460 non-null   int64  \n",
      " 35  BsmtFinType2   1422 non-null   object \n",
      " 36  BsmtFinSF2     1460 non-null   int64  \n",
      " 37  BsmtUnfSF      1460 non-null   int64  \n",
      " 38  TotalBsmtSF    1460 non-null   int64  \n",
      " 39  Heating        1460 non-null   object \n",
      " 40  HeatingQC      1460 non-null   object \n",
      " 41  CentralAir     1460 non-null   object \n",
      " 42  Electrical     1459 non-null   object \n",
      " 43  1stFlrSF       1460 non-null   int64  \n",
      " 44  2ndFlrSF       1460 non-null   int64  \n",
      " 45  LowQualFinSF   1460 non-null   int64  \n",
      " 46  GrLivArea      1460 non-null   int64  \n",
      " 47  BsmtFullBath   1460 non-null   int64  \n",
      " 48  BsmtHalfBath   1460 non-null   int64  \n",
      " 49  FullBath       1460 non-null   int64  \n",
      " 50  HalfBath       1460 non-null   int64  \n",
      " 51  BedroomAbvGr   1460 non-null   int64  \n",
      " 52  KitchenAbvGr   1460 non-null   int64  \n",
      " 53  KitchenQual    1460 non-null   object \n",
      " 54  TotRmsAbvGrd   1460 non-null   int64  \n",
      " 55  Functional     1460 non-null   object \n",
      " 56  Fireplaces     1460 non-null   int64  \n",
      " 57  FireplaceQu    770 non-null    object \n",
      " 58  GarageType     1379 non-null   object \n",
      " 59  GarageYrBlt    1379 non-null   float64\n",
      " 60  GarageFinish   1379 non-null   object \n",
      " 61  GarageCars     1460 non-null   int64  \n",
      " 62  GarageArea     1460 non-null   int64  \n",
      " 63  GarageQual     1379 non-null   object \n",
      " 64  GarageCond     1379 non-null   object \n",
      " 65  PavedDrive     1460 non-null   object \n",
      " 66  WoodDeckSF     1460 non-null   int64  \n",
      " 67  OpenPorchSF    1460 non-null   int64  \n",
      " 68  EnclosedPorch  1460 non-null   int64  \n",
      " 69  3SsnPorch      1460 non-null   int64  \n",
      " 70  ScreenPorch    1460 non-null   int64  \n",
      " 71  PoolArea       1460 non-null   int64  \n",
      " 72  PoolQC         7 non-null      object \n",
      " 73  Fence          281 non-null    object \n",
      " 74  MiscFeature    54 non-null     object \n",
      " 75  MiscVal        1460 non-null   int64  \n",
      " 76  MoSold         1460 non-null   int64  \n",
      " 77  YrSold         1460 non-null   int64  \n",
      " 78  SaleType       1460 non-null   object \n",
      " 79  SaleCondition  1460 non-null   object \n",
      " 80  SalePrice      1460 non-null   int64  \n",
      "dtypes: float64(3), int64(35), object(43)\n",
      "memory usage: 924.0+ KB\n"
     ]
    }
   ],
   "source": [
    "df.info()\n"
   ]
  },
  {
   "cell_type": "code",
   "execution_count": 5,
   "metadata": {},
   "outputs": [
    {
     "data": {
      "text/plain": [
       "Index(['LotFrontage', 'Alley', 'MasVnrType', 'MasVnrArea', 'BsmtQual',\n",
       "       'BsmtCond', 'BsmtExposure', 'BsmtFinType1', 'BsmtFinType2',\n",
       "       'FireplaceQu', 'GarageType', 'GarageYrBlt', 'GarageFinish',\n",
       "       'GarageQual', 'GarageCond', 'PoolQC', 'Fence', 'MiscFeature'],\n",
       "      dtype='object')"
      ]
     },
     "execution_count": 5,
     "metadata": {},
     "output_type": "execute_result"
    }
   ],
   "source": [
    "# The columns consisting of more than 5 missing values\n",
    "df.columns[df.isnull().sum()>5]\n",
    "   "
   ]
  },
  {
   "cell_type": "markdown",
   "metadata": {},
   "source": [
    "##### Some of the columns consist of many Null values- LotFrontage , FireplaceQu, Alley, PoolQC, MiscFeature, Fence etc."
   ]
  },
  {
   "cell_type": "code",
   "execution_count": 6,
   "metadata": {},
   "outputs": [
    {
     "data": {
      "text/html": [
       "<div>\n",
       "<style scoped>\n",
       "    .dataframe tbody tr th:only-of-type {\n",
       "        vertical-align: middle;\n",
       "    }\n",
       "\n",
       "    .dataframe tbody tr th {\n",
       "        vertical-align: top;\n",
       "    }\n",
       "\n",
       "    .dataframe thead th {\n",
       "        text-align: right;\n",
       "    }\n",
       "</style>\n",
       "<table border=\"1\" class=\"dataframe\">\n",
       "  <thead>\n",
       "    <tr style=\"text-align: right;\">\n",
       "      <th></th>\n",
       "      <th>Id</th>\n",
       "      <th>MSSubClass</th>\n",
       "      <th>LotFrontage</th>\n",
       "      <th>LotArea</th>\n",
       "      <th>OverallQual</th>\n",
       "      <th>OverallCond</th>\n",
       "      <th>YearBuilt</th>\n",
       "      <th>YearRemodAdd</th>\n",
       "      <th>MasVnrArea</th>\n",
       "      <th>BsmtFinSF1</th>\n",
       "      <th>...</th>\n",
       "      <th>WoodDeckSF</th>\n",
       "      <th>OpenPorchSF</th>\n",
       "      <th>EnclosedPorch</th>\n",
       "      <th>3SsnPorch</th>\n",
       "      <th>ScreenPorch</th>\n",
       "      <th>PoolArea</th>\n",
       "      <th>MiscVal</th>\n",
       "      <th>MoSold</th>\n",
       "      <th>YrSold</th>\n",
       "      <th>SalePrice</th>\n",
       "    </tr>\n",
       "  </thead>\n",
       "  <tbody>\n",
       "    <tr>\n",
       "      <th>count</th>\n",
       "      <td>1460.000000</td>\n",
       "      <td>1460.000000</td>\n",
       "      <td>1201.000000</td>\n",
       "      <td>1460.000000</td>\n",
       "      <td>1460.000000</td>\n",
       "      <td>1460.000000</td>\n",
       "      <td>1460.000000</td>\n",
       "      <td>1460.000000</td>\n",
       "      <td>1452.000000</td>\n",
       "      <td>1460.000000</td>\n",
       "      <td>...</td>\n",
       "      <td>1460.000000</td>\n",
       "      <td>1460.000000</td>\n",
       "      <td>1460.000000</td>\n",
       "      <td>1460.000000</td>\n",
       "      <td>1460.000000</td>\n",
       "      <td>1460.000000</td>\n",
       "      <td>1460.000000</td>\n",
       "      <td>1460.000000</td>\n",
       "      <td>1460.000000</td>\n",
       "      <td>1460.000000</td>\n",
       "    </tr>\n",
       "    <tr>\n",
       "      <th>mean</th>\n",
       "      <td>730.500000</td>\n",
       "      <td>56.897260</td>\n",
       "      <td>70.049958</td>\n",
       "      <td>10516.828082</td>\n",
       "      <td>6.099315</td>\n",
       "      <td>5.575342</td>\n",
       "      <td>1971.267808</td>\n",
       "      <td>1984.865753</td>\n",
       "      <td>103.685262</td>\n",
       "      <td>443.639726</td>\n",
       "      <td>...</td>\n",
       "      <td>94.244521</td>\n",
       "      <td>46.660274</td>\n",
       "      <td>21.954110</td>\n",
       "      <td>3.409589</td>\n",
       "      <td>15.060959</td>\n",
       "      <td>2.758904</td>\n",
       "      <td>43.489041</td>\n",
       "      <td>6.321918</td>\n",
       "      <td>2007.815753</td>\n",
       "      <td>180921.195890</td>\n",
       "    </tr>\n",
       "    <tr>\n",
       "      <th>std</th>\n",
       "      <td>421.610009</td>\n",
       "      <td>42.300571</td>\n",
       "      <td>24.284752</td>\n",
       "      <td>9981.264932</td>\n",
       "      <td>1.382997</td>\n",
       "      <td>1.112799</td>\n",
       "      <td>30.202904</td>\n",
       "      <td>20.645407</td>\n",
       "      <td>181.066207</td>\n",
       "      <td>456.098091</td>\n",
       "      <td>...</td>\n",
       "      <td>125.338794</td>\n",
       "      <td>66.256028</td>\n",
       "      <td>61.119149</td>\n",
       "      <td>29.317331</td>\n",
       "      <td>55.757415</td>\n",
       "      <td>40.177307</td>\n",
       "      <td>496.123024</td>\n",
       "      <td>2.703626</td>\n",
       "      <td>1.328095</td>\n",
       "      <td>79442.502883</td>\n",
       "    </tr>\n",
       "    <tr>\n",
       "      <th>min</th>\n",
       "      <td>1.000000</td>\n",
       "      <td>20.000000</td>\n",
       "      <td>21.000000</td>\n",
       "      <td>1300.000000</td>\n",
       "      <td>1.000000</td>\n",
       "      <td>1.000000</td>\n",
       "      <td>1872.000000</td>\n",
       "      <td>1950.000000</td>\n",
       "      <td>0.000000</td>\n",
       "      <td>0.000000</td>\n",
       "      <td>...</td>\n",
       "      <td>0.000000</td>\n",
       "      <td>0.000000</td>\n",
       "      <td>0.000000</td>\n",
       "      <td>0.000000</td>\n",
       "      <td>0.000000</td>\n",
       "      <td>0.000000</td>\n",
       "      <td>0.000000</td>\n",
       "      <td>1.000000</td>\n",
       "      <td>2006.000000</td>\n",
       "      <td>34900.000000</td>\n",
       "    </tr>\n",
       "    <tr>\n",
       "      <th>25%</th>\n",
       "      <td>365.750000</td>\n",
       "      <td>20.000000</td>\n",
       "      <td>59.000000</td>\n",
       "      <td>7553.500000</td>\n",
       "      <td>5.000000</td>\n",
       "      <td>5.000000</td>\n",
       "      <td>1954.000000</td>\n",
       "      <td>1967.000000</td>\n",
       "      <td>0.000000</td>\n",
       "      <td>0.000000</td>\n",
       "      <td>...</td>\n",
       "      <td>0.000000</td>\n",
       "      <td>0.000000</td>\n",
       "      <td>0.000000</td>\n",
       "      <td>0.000000</td>\n",
       "      <td>0.000000</td>\n",
       "      <td>0.000000</td>\n",
       "      <td>0.000000</td>\n",
       "      <td>5.000000</td>\n",
       "      <td>2007.000000</td>\n",
       "      <td>129975.000000</td>\n",
       "    </tr>\n",
       "    <tr>\n",
       "      <th>50%</th>\n",
       "      <td>730.500000</td>\n",
       "      <td>50.000000</td>\n",
       "      <td>69.000000</td>\n",
       "      <td>9478.500000</td>\n",
       "      <td>6.000000</td>\n",
       "      <td>5.000000</td>\n",
       "      <td>1973.000000</td>\n",
       "      <td>1994.000000</td>\n",
       "      <td>0.000000</td>\n",
       "      <td>383.500000</td>\n",
       "      <td>...</td>\n",
       "      <td>0.000000</td>\n",
       "      <td>25.000000</td>\n",
       "      <td>0.000000</td>\n",
       "      <td>0.000000</td>\n",
       "      <td>0.000000</td>\n",
       "      <td>0.000000</td>\n",
       "      <td>0.000000</td>\n",
       "      <td>6.000000</td>\n",
       "      <td>2008.000000</td>\n",
       "      <td>163000.000000</td>\n",
       "    </tr>\n",
       "    <tr>\n",
       "      <th>75%</th>\n",
       "      <td>1095.250000</td>\n",
       "      <td>70.000000</td>\n",
       "      <td>80.000000</td>\n",
       "      <td>11601.500000</td>\n",
       "      <td>7.000000</td>\n",
       "      <td>6.000000</td>\n",
       "      <td>2000.000000</td>\n",
       "      <td>2004.000000</td>\n",
       "      <td>166.000000</td>\n",
       "      <td>712.250000</td>\n",
       "      <td>...</td>\n",
       "      <td>168.000000</td>\n",
       "      <td>68.000000</td>\n",
       "      <td>0.000000</td>\n",
       "      <td>0.000000</td>\n",
       "      <td>0.000000</td>\n",
       "      <td>0.000000</td>\n",
       "      <td>0.000000</td>\n",
       "      <td>8.000000</td>\n",
       "      <td>2009.000000</td>\n",
       "      <td>214000.000000</td>\n",
       "    </tr>\n",
       "    <tr>\n",
       "      <th>max</th>\n",
       "      <td>1460.000000</td>\n",
       "      <td>190.000000</td>\n",
       "      <td>313.000000</td>\n",
       "      <td>215245.000000</td>\n",
       "      <td>10.000000</td>\n",
       "      <td>9.000000</td>\n",
       "      <td>2010.000000</td>\n",
       "      <td>2010.000000</td>\n",
       "      <td>1600.000000</td>\n",
       "      <td>5644.000000</td>\n",
       "      <td>...</td>\n",
       "      <td>857.000000</td>\n",
       "      <td>547.000000</td>\n",
       "      <td>552.000000</td>\n",
       "      <td>508.000000</td>\n",
       "      <td>480.000000</td>\n",
       "      <td>738.000000</td>\n",
       "      <td>15500.000000</td>\n",
       "      <td>12.000000</td>\n",
       "      <td>2010.000000</td>\n",
       "      <td>755000.000000</td>\n",
       "    </tr>\n",
       "  </tbody>\n",
       "</table>\n",
       "<p>8 rows × 38 columns</p>\n",
       "</div>"
      ],
      "text/plain": [
       "                Id   MSSubClass  LotFrontage        LotArea  OverallQual  \\\n",
       "count  1460.000000  1460.000000  1201.000000    1460.000000  1460.000000   \n",
       "mean    730.500000    56.897260    70.049958   10516.828082     6.099315   \n",
       "std     421.610009    42.300571    24.284752    9981.264932     1.382997   \n",
       "min       1.000000    20.000000    21.000000    1300.000000     1.000000   \n",
       "25%     365.750000    20.000000    59.000000    7553.500000     5.000000   \n",
       "50%     730.500000    50.000000    69.000000    9478.500000     6.000000   \n",
       "75%    1095.250000    70.000000    80.000000   11601.500000     7.000000   \n",
       "max    1460.000000   190.000000   313.000000  215245.000000    10.000000   \n",
       "\n",
       "       OverallCond    YearBuilt  YearRemodAdd   MasVnrArea   BsmtFinSF1  ...  \\\n",
       "count  1460.000000  1460.000000   1460.000000  1452.000000  1460.000000  ...   \n",
       "mean      5.575342  1971.267808   1984.865753   103.685262   443.639726  ...   \n",
       "std       1.112799    30.202904     20.645407   181.066207   456.098091  ...   \n",
       "min       1.000000  1872.000000   1950.000000     0.000000     0.000000  ...   \n",
       "25%       5.000000  1954.000000   1967.000000     0.000000     0.000000  ...   \n",
       "50%       5.000000  1973.000000   1994.000000     0.000000   383.500000  ...   \n",
       "75%       6.000000  2000.000000   2004.000000   166.000000   712.250000  ...   \n",
       "max       9.000000  2010.000000   2010.000000  1600.000000  5644.000000  ...   \n",
       "\n",
       "        WoodDeckSF  OpenPorchSF  EnclosedPorch    3SsnPorch  ScreenPorch  \\\n",
       "count  1460.000000  1460.000000    1460.000000  1460.000000  1460.000000   \n",
       "mean     94.244521    46.660274      21.954110     3.409589    15.060959   \n",
       "std     125.338794    66.256028      61.119149    29.317331    55.757415   \n",
       "min       0.000000     0.000000       0.000000     0.000000     0.000000   \n",
       "25%       0.000000     0.000000       0.000000     0.000000     0.000000   \n",
       "50%       0.000000    25.000000       0.000000     0.000000     0.000000   \n",
       "75%     168.000000    68.000000       0.000000     0.000000     0.000000   \n",
       "max     857.000000   547.000000     552.000000   508.000000   480.000000   \n",
       "\n",
       "          PoolArea       MiscVal       MoSold       YrSold      SalePrice  \n",
       "count  1460.000000   1460.000000  1460.000000  1460.000000    1460.000000  \n",
       "mean      2.758904     43.489041     6.321918  2007.815753  180921.195890  \n",
       "std      40.177307    496.123024     2.703626     1.328095   79442.502883  \n",
       "min       0.000000      0.000000     1.000000  2006.000000   34900.000000  \n",
       "25%       0.000000      0.000000     5.000000  2007.000000  129975.000000  \n",
       "50%       0.000000      0.000000     6.000000  2008.000000  163000.000000  \n",
       "75%       0.000000      0.000000     8.000000  2009.000000  214000.000000  \n",
       "max     738.000000  15500.000000    12.000000  2010.000000  755000.000000  \n",
       "\n",
       "[8 rows x 38 columns]"
      ]
     },
     "execution_count": 6,
     "metadata": {},
     "output_type": "execute_result"
    }
   ],
   "source": [
    "df.describe()"
   ]
  },
  {
   "cell_type": "code",
   "execution_count": 7,
   "metadata": {},
   "outputs": [
    {
     "data": {
      "text/plain": [
       "(1460, 81)"
      ]
     },
     "execution_count": 7,
     "metadata": {},
     "output_type": "execute_result"
    }
   ],
   "source": [
    "df.shape  "
   ]
  },
  {
   "cell_type": "markdown",
   "metadata": {},
   "source": [
    "#### Data Understanding\n",
    "(Description of some important variables) \n",
    "\n",
    "RoofStyle: Type of roof (Flat, Shed etc.)\n",
    "\t\t\n",
    "RoofMatl: Roof material (Clay Tile, Metal etc. )\n",
    "\t\n",
    "Exterior1st: Exterior covering on house (Stone, Cement Board, Hard Board etc)\n",
    "\n",
    "Exterior2nd: Exterior covering on house (if more than one material) \n",
    "\n",
    "ExterQual: Evaluates the quality of the material on the exterior (Poor to Excellent)\n",
    "\t\t\n",
    "ExterCond: Evaluates the present condition of the material on the exterior (Poor to Excellent)\n",
    "\t\t\n",
    "Foundation: Type of foundation ( Slab, Brick,Stone, Wood etc)\n",
    "\t\t\n",
    "BsmtQual: Evaluates the height of the basement (Poor to Excellent)\n",
    "\t\t\n",
    "BsmtCond: Evaluates the general condition of the basement(Poor to Excellent)\n",
    "\n",
    "BsmtExposure: Refers to walkout or garden level walls\n",
    "\n",
    "BsmtFinType1: Rating of basement finished area\n",
    "\t\t\n",
    "BsmtFinType2: Rating of basement finished area (if multiple types)\n",
    "\n",
    "BsmtFinSF2: Type 2 finished square feet\n",
    "\n",
    "BsmtUnfSF: Unfinished square feet of basement area\n",
    "\n",
    "TotalBsmtSF: Total square feet of basement area\n",
    "\n",
    "Heating: Type of heating (Floor Furnace, Wall furnace etc)\n",
    "\t\t\t\t\n",
    "HeatingQC: Heating quality and condition (Poor to Excellent)\n",
    "\t\t\n",
    "CentralAir: Central air conditioning (Yes/No)\n",
    "\t\t\n",
    "Electrical: Electrical system\n",
    "\t\t\n",
    "1stFlrSF: First Floor square feet\n",
    " \n",
    "2ndFlrSF: Second floor square feet\n",
    "\n",
    "LowQualFinSF: Low quality finished square feet (all floors)\n",
    "\n",
    "GrLivArea: Above grade (ground) living area square feet\n",
    "\n",
    "BsmtFullBath: Basement full bathrooms\n",
    "\n",
    "BsmtHalfBath: Basement half bathrooms\n",
    "\n",
    "FullBath: Full bathrooms above grade\n",
    "\n",
    "HalfBath: Half baths above grade\n",
    "\n",
    "Bedroom: Bedrooms above grade (does NOT include basement bedrooms)\n",
    "\n",
    "Kitchen: Kitchens above grade\n",
    "\n",
    "KitchenQual: Kitchen quality (Poor to Excellent)\n",
    "       \t\n",
    "TotRmsAbvGrd: Total rooms above grade (does not include bathrooms)\n",
    "\n",
    "Functional: Home functionality (Assume typical unless deductions are warranted)\n",
    "\t\t\n",
    "Fireplaces: Number of fireplaces\n",
    "\n",
    "FireplaceQu: Fireplace quality (Poor to Excellent)\n",
    "\n",
    "GarageType: Garage location\n",
    "\t\t\n",
    "GarageYrBlt: Year garage was built\n",
    "\t\t\n",
    "GarageFinish: Interior finish of the garage\n",
    "\n",
    "GarageCars: Size of garage in car capacity\n",
    "\n",
    "GarageArea: Size of garage in square feet\n",
    "\n",
    "GarageQual: Garage quality (Poor to Excellent)\n",
    "\t\t\n",
    "GarageCond: Garage condition (Poor to Excellent)\n",
    "\t\t\n",
    "PavedDrive: Paved driveway (Paved, Partial Pavement, Dirt/Gravel etc.)\n",
    "\t\t\n",
    "WoodDeckSF: Wood deck area in square feet\n",
    "\n",
    "OpenPorchSF: Open porch area in square feet\n",
    "\n",
    "EnclosedPorch: Enclosed porch area in square feet\n",
    "\n",
    "ScreenPorch: Screen porch area in square feet\n",
    "\n",
    "PoolArea: Pool area in square feet\n",
    "\n",
    "PoolQC: Pool quality (Fair to Excellent)\n",
    "\t\t\n",
    "MiscFeature: Miscellaneous feature not covered in other categories\n",
    "\n",
    "MoSold: Month Sold (MM)\n",
    "\n",
    "YrSold: Year Sold (YYYY)\n",
    "MSSubClass: Identifies the type of dwelling involved in the sale.\t\n",
    "\n",
    "MSZoning: Identifies the general zoning classification of the sale.\n",
    "\t\t (e.g. A-Agriculture, C- Commercial )\n",
    "       \n",
    "LotFrontage: Linear feet of Street connected to property\n",
    "\n",
    "LotArea: Lot size in square feet\n",
    "\n",
    "Street: Type of road access to property -Gravel\tand Paved\n",
    "\t\t\n",
    "LotShape: General shape of property (Regular, Slightly irregular etc)\n",
    "\n",
    "LandContour: Flatness of the property\n",
    "\t\t\n",
    "Utilities: Type of utilities available Types of public utilities (E,G,W,& S)\t\n",
    "LotConfig: Lot configuration  (Inside, Corner etc)\n",
    "\t\n",
    "Neighborhood: Physical locations within Ames city limits\t\t\t\n",
    "Condition1: Proximity to various conditions\n",
    "\t\n",
    "BldgType: Type of dwelling (Single-family, Two-family, Duplex)\n",
    "\t\t\t\n",
    "HouseStyle: Style of dwelling ( 1Story, 2Story etc)\n",
    "\n",
    "OverallQual: Rates the overall material and finish of the house (1 to 10)\n",
    "\n",
    "OverallCond: Rates the overall condition of the house (1 to 10)\n",
    "\n",
    "YearBuilt: Original construction date\n",
    "\n",
    "YearRemodAdd: Remodel date (same as construction date if no remodeling or additions)\t\n",
    "\n",
    "\n",
    "##### Data Quality Issues\n",
    "Various column headings are not clear (not abbreviated properly). Even the Data dictionary is not able to explain the meaning of some of the variable names."
   ]
  },
  {
   "cell_type": "markdown",
   "metadata": {},
   "source": [
    "#### Data Visualization for preliminary analysis"
   ]
  },
  {
   "cell_type": "code",
   "execution_count": 8,
   "metadata": {},
   "outputs": [
    {
     "data": {
      "image/png": "[encoded data removed]",
      "text/plain": [
       "<Figure size 432x288 with 1 Axes>"
      ]
     },
     "metadata": {
      "needs_background": "light"
     },
     "output_type": "display_data"
    }
   ],
   "source": [
    "# LotArea: Lot size in square feet\n",
    "sns.distplot(df['LotArea'])\n",
    "plt.show()"
   ]
  },
  {
   "cell_type": "code",
   "execution_count": 9,
   "metadata": {},
   "outputs": [
    {
     "data": {
      "image/png": "[encoded data removed]",
      "text/plain": [
       "<Figure size 432x288 with 1 Axes>"
      ]
     },
     "metadata": {
      "needs_background": "light"
     },
     "output_type": "display_data"
    }
   ],
   "source": [
    "# TotalBsmtSF: Total square feet of basement area\n",
    "sns.distplot(df['TotalBsmtSF'])\n",
    "plt.show()"
   ]
  },
  {
   "cell_type": "markdown",
   "metadata": {},
   "source": [
    "#### Data Cleaning and Manipulation "
   ]
  },
  {
   "cell_type": "code",
   "execution_count": 10,
   "metadata": {},
   "outputs": [
    {
     "name": "stdout",
     "output_type": "stream",
     "text": [
      "Index(['Alley', 'PoolQC', 'MiscFeature'], dtype='object')\n",
      "Id                0.00\n",
      "MSSubClass        0.00\n",
      "MSZoning          0.00\n",
      "LotFrontage      17.74\n",
      "LotArea           0.00\n",
      "                 ...  \n",
      "MoSold            0.00\n",
      "YrSold            0.00\n",
      "SaleType          0.00\n",
      "SaleCondition     0.00\n",
      "SalePrice         0.00\n",
      "Length: 81, dtype: float64\n"
     ]
    }
   ],
   "source": [
    "#To check the columns and to identify the columns which are nearly empty \n",
    "sr=df.isnull().sum(axis=0)\n",
    "#To identify the columns with more than 90% NaN values\n",
    "i=sr[sr>len(df.index)*0.9].index \n",
    "print(i)\n",
    "print(round(100*(df.isnull().sum()/len(df.index)),2))"
   ]
  },
  {
   "cell_type": "code",
   "execution_count": 11,
   "metadata": {},
   "outputs": [
    {
     "name": "stdout",
     "output_type": "stream",
     "text": [
      "0    2.0\n",
      "1    1.0\n",
      "2    2.0\n",
      "3    2.0\n",
      "4    2.0\n",
      "Name: HouseStyle, dtype: float64\n"
     ]
    }
   ],
   "source": [
    "#Removing text from some of the fields and chnging their datatypes:\n",
    "df['HouseStyle']=df['HouseStyle'].str.replace('Story','')\n",
    "df['HouseStyle']=df['HouseStyle'].str.replace('Fin','')\n",
    "df['HouseStyle']=df['HouseStyle'].str.replace('Unf','')\n",
    "df['HouseStyle']=df['HouseStyle'].str.replace('SLvl','3') #Assuming a bigger value\n",
    "df['HouseStyle']=df['HouseStyle'].str.replace('SFoyer','4') #Assuming a bigger value\n",
    "\n",
    "#Changing the data type of HouseStyle to float\n",
    "df['HouseStyle']=df['HouseStyle'].astype(\"float\")\n",
    "print(df.HouseStyle.head())\n",
    "\n",
    "\n"
   ]
  },
  {
   "cell_type": "markdown",
   "metadata": {},
   "source": [
    "#### Mapping of values"
   ]
  },
  {
   "cell_type": "code",
   "execution_count": 12,
   "metadata": {},
   "outputs": [
    {
     "name": "stdout",
     "output_type": "stream",
     "text": [
      "   GarageQual  GarageCond  KitchenQual  HeatingQC  BsmtCond  BsmtQual  \\\n",
      "0           3           3            4          5         3         4   \n",
      "1           3           3            3          5         3         4   \n",
      "2           3           3            4          5         3         4   \n",
      "3           3           3            4          4         4         3   \n",
      "4           3           3            4          5         3         4   \n",
      "5           3           3            3          5         3         4   \n",
      "6           3           3            4          5         3         5   \n",
      "7           3           3            3          5         3         4   \n",
      "8           2           3            3          4         3         3   \n",
      "9           4           3            3          5         3         3   \n",
      "\n",
      "   ExterQual  ExterCond  FireplaceQu  \n",
      "0          4          3            0  \n",
      "1          3          3            3  \n",
      "2          4          3            3  \n",
      "3          3          3            4  \n",
      "4          4          3            3  \n",
      "5          3          3            0  \n",
      "6          4          3            4  \n",
      "7          3          3            3  \n",
      "8          3          3            3  \n",
      "9          3          3            3  \n"
     ]
    }
   ],
   "source": [
    "#Defining the function for mapping of ratings to a number\n",
    "def rating_map(x):\n",
    "    return x.map({'Po':'1', 'Fa':'2','TA': '3','Gd':'4','Ex':'5'})\n",
    "\n",
    "varlist=['GarageQual','GarageCond','KitchenQual','HeatingQC','BsmtCond','BsmtQual','ExterQual','ExterCond','FireplaceQu']\n",
    "\n",
    "# Applying the function to the multiple columns of the dataframe\n",
    "df[varlist] = df[varlist].apply(rating_map)\n",
    "\n",
    "#Replacing NaN values by 0\n",
    "df[varlist]=df[varlist].fillna(0)\n",
    "\n",
    "#Changing the data type to int\n",
    "df[varlist]=df[varlist].astype(\"int\")\n",
    "print(df[varlist].head(10))\n"
   ]
  },
  {
   "cell_type": "code",
   "execution_count": 13,
   "metadata": {},
   "outputs": [
    {
     "name": "stdout",
     "output_type": "stream",
     "text": [
      "   PavedDrive  CentralAir\n",
      "0           1           1\n",
      "1           1           1\n",
      "2           1           1\n",
      "3           1           1\n",
      "4           1           1\n"
     ]
    }
   ],
   "source": [
    "def binary_map(x):\n",
    "    return x.map({'Y':1,'N':0})\n",
    "varlist=['PavedDrive','CentralAir']\n",
    "\n",
    "# Applying the function to the bikes dataframe\n",
    "df[varlist] = df[varlist].apply(binary_map)\n",
    "\n",
    "#Replacing NaN values by 0\n",
    "df[varlist]=df[varlist].fillna(0)\n",
    "\n",
    "#Changing the data type to int\n",
    "df[varlist]=df[varlist].astype(\"int\")\n",
    "print(df[varlist].head())\n",
    "\n"
   ]
  },
  {
   "cell_type": "markdown",
   "metadata": {},
   "source": [
    "#### Dummy Variable creation"
   ]
  },
  {
   "cell_type": "code",
   "execution_count": 14,
   "metadata": {},
   "outputs": [
    {
     "name": "stdout",
     "output_type": "stream",
     "text": [
      "   HouseStyle  LotShape_IR2  LotShape_IR3  LotShape_Reg  LotConfig_CulDSac  \\\n",
      "0         2.0             0             0             1                  0   \n",
      "1         1.0             0             0             1                  0   \n",
      "2         2.0             0             0             0                  0   \n",
      "3         2.0             0             0             0                  0   \n",
      "4         2.0             0             0             0                  0   \n",
      "\n",
      "   LotConfig_FR2  LotConfig_FR3  LotConfig_Inside  Neighborhood_Blueste  \\\n",
      "0              0              0                 1                     0   \n",
      "1              1              0                 0                     0   \n",
      "2              0              0                 1                     0   \n",
      "3              0              0                 0                     0   \n",
      "4              1              0                 0                     0   \n",
      "\n",
      "   Neighborhood_BrDale  ...  GarageType_BuiltIn  GarageType_CarPort  \\\n",
      "0                    0  ...                   0                   0   \n",
      "1                    0  ...                   0                   0   \n",
      "2                    0  ...                   0                   0   \n",
      "3                    0  ...                   0                   0   \n",
      "4                    0  ...                   0                   0   \n",
      "\n",
      "   GarageType_Detchd  GarageFinish_RFn  GarageFinish_Unf  \\\n",
      "0                  0                 1                 0   \n",
      "1                  0                 1                 0   \n",
      "2                  0                 1                 0   \n",
      "3                  1                 0                 1   \n",
      "4                  0                 1                 0   \n",
      "\n",
      "   SaleCondition_AdjLand  SaleCondition_Alloca  SaleCondition_Family  \\\n",
      "0                      0                     0                     0   \n",
      "1                      0                     0                     0   \n",
      "2                      0                     0                     0   \n",
      "3                      0                     0                     0   \n",
      "4                      0                     0                     0   \n",
      "\n",
      "   SaleCondition_Normal  SaleCondition_Partial  \n",
      "0                     1                      0  \n",
      "1                     1                      0  \n",
      "2                     1                      0  \n",
      "3                     0                      0  \n",
      "4                     1                      0  \n",
      "\n",
      "[5 rows x 98 columns]\n"
     ]
    }
   ],
   "source": [
    "#Creating dummy variables\n",
    "varlist=['LotShape','LotConfig','Neighborhood','Condition1','BldgType','HouseStyle','RoofStyle','Exterior1st','Exterior2nd','MasVnrType','Foundation','GarageType','GarageFinish','SaleCondition']\n",
    "dumy_list = pd.get_dummies(df[varlist],drop_first=True)\n",
    "print(dumy_list.head())"
   ]
  },
  {
   "cell_type": "code",
   "execution_count": 15,
   "metadata": {},
   "outputs": [
    {
     "name": "stdout",
     "output_type": "stream",
     "text": [
      "   Id  MSSubClass MSZoning  LotFrontage  LotArea Street Alley LandContour  \\\n",
      "0   1          60       RL         65.0     8450   Pave   NaN         Lvl   \n",
      "1   2          20       RL         80.0     9600   Pave   NaN         Lvl   \n",
      "2   3          60       RL         68.0    11250   Pave   NaN         Lvl   \n",
      "3   4          70       RL         60.0     9550   Pave   NaN         Lvl   \n",
      "4   5          60       RL         84.0    14260   Pave   NaN         Lvl   \n",
      "\n",
      "  Utilities LandSlope  ... GarageType_BuiltIn  GarageType_CarPort  \\\n",
      "0    AllPub       Gtl  ...                  0                   0   \n",
      "1    AllPub       Gtl  ...                  0                   0   \n",
      "2    AllPub       Gtl  ...                  0                   0   \n",
      "3    AllPub       Gtl  ...                  0                   0   \n",
      "4    AllPub       Gtl  ...                  0                   0   \n",
      "\n",
      "   GarageType_Detchd  GarageFinish_RFn  GarageFinish_Unf  \\\n",
      "0                  0                 1                 0   \n",
      "1                  0                 1                 0   \n",
      "2                  0                 1                 0   \n",
      "3                  1                 0                 1   \n",
      "4                  0                 1                 0   \n",
      "\n",
      "  SaleCondition_AdjLand  SaleCondition_Alloca  SaleCondition_Family  \\\n",
      "0                     0                     0                     0   \n",
      "1                     0                     0                     0   \n",
      "2                     0                     0                     0   \n",
      "3                     0                     0                     0   \n",
      "4                     0                     0                     0   \n",
      "\n",
      "   SaleCondition_Normal  SaleCondition_Partial  \n",
      "0                     1                      0  \n",
      "1                     1                      0  \n",
      "2                     1                      0  \n",
      "3                     0                      0  \n",
      "4                     1                      0  \n",
      "\n",
      "[5 rows x 164 columns]\n"
     ]
    }
   ],
   "source": [
    "#Adding the dummy columns to the dataframe and removing the original columns\n",
    "\n",
    "df = pd.concat([df, dumy_list], axis = 1)\n",
    "\n",
    "df.drop(varlist, axis = 1, inplace = True)\n",
    "print(df.head())"
   ]
  },
  {
   "cell_type": "code",
   "execution_count": 16,
   "metadata": {},
   "outputs": [
    {
     "name": "stdout",
     "output_type": "stream",
     "text": [
      "    LotArea  MasVnrArea  BsmtFinSF1  BsmtUnfSF  TotalBsmtSF  SalePrice\n",
      "0  0.033420     0.12250    0.125089   0.064212     0.140098   0.241078\n",
      "1  0.038795     0.00000    0.173281   0.121575     0.206547   0.203583\n",
      "2  0.046507     0.10125    0.086109   0.185788     0.150573   0.261908\n",
      "3  0.038561     0.00000    0.038271   0.231164     0.123732   0.145952\n",
      "4  0.060576     0.21875    0.116052   0.209760     0.187398   0.298709\n"
     ]
    }
   ],
   "source": [
    "#Rescaling is to be done so that the units of the coefficients obtained are all on the same scale.\n",
    "scaler = MinMaxScaler()\n",
    "\n",
    "#Only numeric variales are kept excluding 'yes/no', '0/1' and dummy variables\n",
    "numeric_vars = ['LotArea','MasVnrArea','BsmtFinSF1','BsmtUnfSF','TotalBsmtSF','SalePrice']\n",
    "\n",
    "df[numeric_vars] = scaler.fit_transform(df[numeric_vars])\n",
    "print(df[numeric_vars].head())"
   ]
  },
  {
   "cell_type": "code",
   "execution_count": 17,
   "metadata": {},
   "outputs": [
    {
     "data": {
      "image/png": "[encoded data removed]",
      "text/plain": [
       "<Figure size 1440x720 with 2 Axes>"
      ]
     },
     "metadata": {
      "needs_background": "light"
     },
     "output_type": "display_data"
    }
   ],
   "source": [
    "#Generating a Heat Map (map of correlations) for the numeric variables\n",
    "plt.figure(figsize = (20, 10))\n",
    "sns.heatmap(df[numeric_vars].corr(), annot = True, cmap=\"RdYlBu\")\n",
    "plt.show()"
   ]
  },
  {
   "cell_type": "markdown",
   "metadata": {},
   "source": [
    "#### Feature Selection using RFE (Recursive Feature Elimination) approach"
   ]
  },
  {
   "cell_type": "code",
   "execution_count": 18,
   "metadata": {},
   "outputs": [
    {
     "data": {
      "text/plain": [
       "[('Id', False, 75),\n",
       " ('MSSubClass', False, 52),\n",
       " ('LotFrontage', False, 59),\n",
       " ('LotArea', True, 1),\n",
       " ('OverallQual', True, 1),\n",
       " ('OverallCond', False, 13),\n",
       " ('YearBuilt', False, 54),\n",
       " ('YearRemodAdd', False, 64),\n",
       " ('MasVnrArea', True, 1),\n",
       " ('ExterQual', True, 1),\n",
       " ('ExterCond', False, 38),\n",
       " ('BsmtQual', False, 2),\n",
       " ('BsmtCond', False, 4),\n",
       " ('BsmtFinSF1', True, 1),\n",
       " ('BsmtFinSF2', False, 73),\n",
       " ('BsmtUnfSF', True, 1),\n",
       " ('TotalBsmtSF', True, 1),\n",
       " ('HeatingQC', False, 44),\n",
       " ('CentralAir', False, 46),\n",
       " ('1stFlrSF', False, 62),\n",
       " ('2ndFlrSF', False, 63),\n",
       " ('LowQualFinSF', False, 60),\n",
       " ('GrLivArea', False, 61),\n",
       " ('BsmtFullBath', True, 1),\n",
       " ('BsmtHalfBath', True, 1),\n",
       " ('FullBath', True, 1),\n",
       " ('HalfBath', True, 1),\n",
       " ('BedroomAbvGr', False, 30),\n",
       " ('KitchenAbvGr', True, 1),\n",
       " ('KitchenQual', True, 1),\n",
       " ('TotRmsAbvGrd', True, 1),\n",
       " ('Fireplaces', False, 8),\n",
       " ('FireplaceQu', False, 47),\n",
       " ('GarageYrBlt', False, 66),\n",
       " ('GarageCars', True, 1),\n",
       " ('GarageArea', False, 72),\n",
       " ('GarageQual', True, 1),\n",
       " ('GarageCond', True, 1),\n",
       " ('PavedDrive', False, 31),\n",
       " ('WoodDeckSF', False, 67),\n",
       " ('OpenPorchSF', False, 68),\n",
       " ('EnclosedPorch', False, 71),\n",
       " ('3SsnPorch', False, 56),\n",
       " ('ScreenPorch', False, 65),\n",
       " ('PoolArea', False, 69),\n",
       " ('MiscVal', False, 74),\n",
       " ('MoSold', False, 51),\n",
       " ('YrSold', False, 42),\n",
       " ('LotShape_IR2', False, 34),\n",
       " ('LotShape_IR3', True, 1),\n",
       " ('LotShape_Reg', False, 35),\n",
       " ('LotConfig_CulDSac', True, 1),\n",
       " ('LotConfig_FR2', True, 1),\n",
       " ('LotConfig_FR3', True, 1),\n",
       " ('LotConfig_Inside', False, 70),\n",
       " ('Neighborhood_Blueste', False, 7),\n",
       " ('Neighborhood_BrDale', False, 39),\n",
       " ('Neighborhood_BrkSide', True, 1),\n",
       " ('Neighborhood_ClearCr', True, 1),\n",
       " ('Neighborhood_CollgCr', False, 21),\n",
       " ('Neighborhood_Crawfor', True, 1),\n",
       " ('Neighborhood_Edwards', True, 1),\n",
       " ('Neighborhood_Gilbert', False, 9),\n",
       " ('Neighborhood_IDOTRR', False, 5),\n",
       " ('Neighborhood_MeadowV', True, 1),\n",
       " ('Neighborhood_Mitchel', False, 11),\n",
       " ('Neighborhood_NAmes', False, 43),\n",
       " ('Neighborhood_NPkVill', False, 26),\n",
       " ('Neighborhood_NWAmes', False, 10),\n",
       " ('Neighborhood_NoRidge', True, 1),\n",
       " ('Neighborhood_NridgHt', True, 1),\n",
       " ('Neighborhood_OldTown', False, 37),\n",
       " ('Neighborhood_SWISU', True, 1),\n",
       " ('Neighborhood_Sawyer', False, 33),\n",
       " ('Neighborhood_SawyerW', False, 22),\n",
       " ('Neighborhood_Somerst', True, 1),\n",
       " ('Neighborhood_StoneBr', True, 1),\n",
       " ('Neighborhood_Timber', False, 57),\n",
       " ('Neighborhood_Veenker', True, 1),\n",
       " ('Condition1_Feedr', False, 19),\n",
       " ('Condition1_Norm', True, 1),\n",
       " ('Condition1_PosA', True, 1),\n",
       " ('Condition1_PosN', False, 18),\n",
       " ('Condition1_RRAe', True, 1),\n",
       " ('Condition1_RRAn', True, 1),\n",
       " ('Condition1_RRNe', False, 28),\n",
       " ('Condition1_RRNn', False, 29),\n",
       " ('BldgType_2fmCon', True, 1),\n",
       " ('BldgType_Duplex', True, 1),\n",
       " ('BldgType_Twnhs', True, 1),\n",
       " ('BldgType_TwnhsE', True, 1),\n",
       " ('RoofStyle_Gable', False, 23),\n",
       " ('RoofStyle_Gambrel', False, 3),\n",
       " ('RoofStyle_Hip', False, 25),\n",
       " ('RoofStyle_Mansard', False, 55),\n",
       " ('RoofStyle_Shed', True, 1),\n",
       " ('Exterior1st_AsphShn', True, 1),\n",
       " ('Exterior1st_BrkComm', False, 50),\n",
       " ('Exterior1st_BrkFace', True, 1),\n",
       " ('Exterior1st_CBlock', True, 1),\n",
       " ('Exterior1st_CemntBd', True, 1),\n",
       " ('Exterior1st_HdBoard', False, 41),\n",
       " ('Exterior1st_ImStucc', True, 1),\n",
       " ('Exterior1st_MetalSd', True, 1),\n",
       " ('Exterior1st_Plywood', False, 27),\n",
       " ('Exterior1st_Stone', True, 1),\n",
       " ('Exterior1st_Stucco', True, 1),\n",
       " ('Exterior1st_VinylSd', True, 1),\n",
       " ('Exterior1st_Wd Sdng', False, 40),\n",
       " ('Exterior1st_WdShing', True, 1),\n",
       " ('Exterior2nd_AsphShn', True, 1),\n",
       " ('Exterior2nd_Brk Cmn', True, 1),\n",
       " ('Exterior2nd_BrkFace', True, 1),\n",
       " ('Exterior2nd_CBlock', True, 1),\n",
       " ('Exterior2nd_CmentBd', True, 1),\n",
       " ('Exterior2nd_HdBoard', False, 49),\n",
       " ('Exterior2nd_ImStucc', True, 1),\n",
       " ('Exterior2nd_MetalSd', True, 1),\n",
       " ('Exterior2nd_Other', False, 76),\n",
       " ('Exterior2nd_Plywood', False, 32),\n",
       " ('Exterior2nd_Stone', False, 48),\n",
       " ('Exterior2nd_Stucco', True, 1),\n",
       " ('Exterior2nd_VinylSd', False, 58),\n",
       " ('Exterior2nd_Wd Sdng', False, 45),\n",
       " ('Exterior2nd_Wd Shng', True, 1),\n",
       " ('MasVnrType_BrkFace', False, 24),\n",
       " ('MasVnrType_None', True, 1),\n",
       " ('MasVnrType_Stone', False, 53),\n",
       " ('Foundation_CBlock', True, 1),\n",
       " ('Foundation_PConc', False, 12),\n",
       " ('Foundation_Slab', True, 1),\n",
       " ('Foundation_Stone', True, 1),\n",
       " ('Foundation_Wood', True, 1),\n",
       " ('GarageType_Attchd', False, 16),\n",
       " ('GarageType_Basment', False, 17),\n",
       " ('GarageType_BuiltIn', False, 15),\n",
       " ('GarageType_CarPort', False, 6),\n",
       " ('GarageType_Detchd', False, 14),\n",
       " ('GarageFinish_RFn', True, 1),\n",
       " ('GarageFinish_Unf', True, 1),\n",
       " ('SaleCondition_AdjLand', True, 1),\n",
       " ('SaleCondition_Alloca', True, 1),\n",
       " ('SaleCondition_Family', False, 36),\n",
       " ('SaleCondition_Normal', False, 20),\n",
       " ('SaleCondition_Partial', True, 1)]"
      ]
     },
     "execution_count": 18,
     "metadata": {},
     "output_type": "execute_result"
    }
   ],
   "source": [
    "from sklearn.feature_selection import RFE\n",
    "from sklearn.linear_model import LinearRegression\n",
    "\n",
    "# To keep the same rows in the train and test data sets always\n",
    "from sklearn.model_selection import train_test_split\n",
    "\n",
    "df=df.fillna(0)\n",
    "\n",
    "df1=pd.DataFrame(df)\n",
    "cols=df1.columns\n",
    "for c in cols:\n",
    "    if df1[c].dtype==\"object\":\n",
    "        df1=df1.drop(c,axis=1)\n",
    "\n",
    "X = df1.iloc[:,:] # predictors in variable X\n",
    "X=X.drop('SalePrice',axis=1)\n",
    "y = df1.loc[:,'SalePrice'] # response variable in Y\n",
    "        \n",
    "\n",
    "X_train, X_test, y_train, y_test = train_test_split(X, y, train_size=0.7,test_size = 0.3,random_state=100)\n",
    "\n",
    "lm = LinearRegression()\n",
    "lm.fit(X_train, y_train)\n",
    "\n",
    "#To determine top 70 features\n",
    "rfe = RFE(lm, 70)             # running RFE\n",
    "rfe = rfe.fit(X_train, y_train)\n",
    "list(zip(X_train.columns,rfe.support_,rfe.ranking_))\n"
   ]
  },
  {
   "cell_type": "code",
   "execution_count": 19,
   "metadata": {},
   "outputs": [
    {
     "name": "stdout",
     "output_type": "stream",
     "text": [
      "Index(['LotArea', 'OverallQual', 'MasVnrArea', 'ExterQual', 'BsmtFinSF1',\n",
      "       'BsmtUnfSF', 'TotalBsmtSF', 'BsmtFullBath', 'BsmtHalfBath', 'FullBath',\n",
      "       'HalfBath', 'KitchenAbvGr', 'KitchenQual', 'TotRmsAbvGrd', 'GarageCars',\n",
      "       'GarageQual', 'GarageCond', 'LotShape_IR3', 'LotConfig_CulDSac',\n",
      "       'LotConfig_FR2', 'LotConfig_FR3', 'Neighborhood_BrkSide',\n",
      "       'Neighborhood_ClearCr', 'Neighborhood_Crawfor', 'Neighborhood_Edwards',\n",
      "       'Neighborhood_MeadowV', 'Neighborhood_NoRidge', 'Neighborhood_NridgHt',\n",
      "       'Neighborhood_SWISU', 'Neighborhood_Somerst', 'Neighborhood_StoneBr',\n",
      "       'Neighborhood_Veenker', 'Condition1_Norm', 'Condition1_PosA',\n",
      "       'Condition1_RRAe', 'Condition1_RRAn', 'BldgType_2fmCon',\n",
      "       'BldgType_Duplex', 'BldgType_Twnhs', 'BldgType_TwnhsE',\n",
      "       'RoofStyle_Shed', 'Exterior1st_AsphShn', 'Exterior1st_BrkFace',\n",
      "       'Exterior1st_CBlock', 'Exterior1st_CemntBd', 'Exterior1st_ImStucc',\n",
      "       'Exterior1st_MetalSd', 'Exterior1st_Stone', 'Exterior1st_Stucco',\n",
      "       'Exterior1st_VinylSd', 'Exterior1st_WdShing', 'Exterior2nd_AsphShn',\n",
      "       'Exterior2nd_Brk Cmn', 'Exterior2nd_BrkFace', 'Exterior2nd_CBlock',\n",
      "       'Exterior2nd_CmentBd', 'Exterior2nd_ImStucc', 'Exterior2nd_MetalSd',\n",
      "       'Exterior2nd_Stucco', 'Exterior2nd_Wd Shng', 'MasVnrType_None',\n",
      "       'Foundation_CBlock', 'Foundation_Slab', 'Foundation_Stone',\n",
      "       'Foundation_Wood', 'GarageFinish_RFn', 'GarageFinish_Unf',\n",
      "       'SaleCondition_AdjLand', 'SaleCondition_Alloca',\n",
      "       'SaleCondition_Partial'],\n",
      "      dtype='object')\n"
     ]
    }
   ],
   "source": [
    "# Displaying the columns which are supported by RFE\n",
    "supported_cols = X_train.columns[rfe.support_]\n",
    "print(supported_cols)\n"
   ]
  },
  {
   "cell_type": "code",
   "execution_count": 20,
   "metadata": {},
   "outputs": [],
   "source": [
    "supported_cols=supported_cols=['LotArea', 'OverallQual', 'MasVnrArea', 'ExterQual', 'BsmtFinSF1',\n",
    "       'TotalBsmtSF', 'BsmtFullBath', 'BsmtHalfBath', 'FullBath', 'HalfBath',\n",
    "       'KitchenQual', 'GarageCars', 'GarageQual', 'GarageCond', 'LotShape_IR3',\n",
    "       'LotConfig_CulDSac', 'LotConfig_FR2', 'LotConfig_FR3',\n",
    "       'Neighborhood_BrkSide', 'Neighborhood_ClearCr', 'Neighborhood_Crawfor',\n",
    "       'Neighborhood_MeadowV', 'Neighborhood_NoRidge', 'Neighborhood_NridgHt',\n",
    "       'Neighborhood_SWISU', 'Neighborhood_Somerst', 'Neighborhood_StoneBr',\n",
    "       'Neighborhood_Veenker', 'Condition1_Norm', 'Condition1_PosA',\n",
    "       'Condition1_RRAe', 'Condition1_RRAn', 'BldgType_2fmCon',\n",
    "       'BldgType_Duplex', 'BldgType_Twnhs', 'BldgType_TwnhsE',\n",
    "       'RoofStyle_Shed', 'Exterior1st_AsphShn', 'Exterior1st_BrkFace',\n",
    "       'Exterior1st_CBlock', 'Exterior1st_CemntBd', 'Exterior1st_ImStucc',\n",
    "       'Exterior1st_Stone', 'Exterior2nd_AsphShn', 'Exterior2nd_Brk Cmn',\n",
    "       'Exterior2nd_BrkFace', 'Exterior2nd_CBlock', 'Exterior2nd_CmentBd',\n",
    "       'Exterior2nd_ImStucc', 'Exterior2nd_Stucco', 'Exterior2nd_Wd Shng',\n",
    "       'MasVnrType_None', 'Foundation_CBlock', 'Foundation_Slab',\n",
    "       'Foundation_Stone', 'Foundation_Wood', 'GarageFinish_RFn',\n",
    "       'GarageFinish_Unf', 'SaleCondition_AdjLand', 'SaleCondition_Partial']"
   ]
  },
  {
   "cell_type": "markdown",
   "metadata": {},
   "source": [
    "### Model Building and Evaluation"
   ]
  },
  {
   "cell_type": "code",
   "execution_count": 21,
   "metadata": {},
   "outputs": [],
   "source": [
    "X_train=X_train[supported_cols]\n",
    "X_test=X_test[supported_cols]\n"
   ]
  },
  {
   "cell_type": "markdown",
   "metadata": {},
   "source": [
    "### Linear Regression Model\n"
   ]
  },
  {
   "cell_type": "code",
   "execution_count": 22,
   "metadata": {},
   "outputs": [
    {
     "data": {
      "text/plain": [
       "LinearRegression()"
      ]
     },
     "execution_count": 22,
     "metadata": {},
     "output_type": "execute_result"
    }
   ],
   "source": [
    "# Instantiate the Linear Regression Model object\n",
    "lm = LinearRegression()\n",
    "\n",
    "# Fit a line using the above object\n",
    "lm.fit(X_train, y_train)"
   ]
  },
  {
   "cell_type": "code",
   "execution_count": 23,
   "metadata": {},
   "outputs": [
    {
     "name": "stdout",
     "output_type": "stream",
     "text": [
      "-0.19587754814141226\n",
      "[ 1.69781276e-01  2.33261112e-02  7.17762153e-02  1.10155321e-02\n",
      "  5.70903070e-02  1.67342559e-01  1.70559564e-02  1.69520603e-02\n",
      "  3.01787015e-02  2.08351533e-02  1.74622867e-02  1.98569701e-02\n",
      "  1.34202551e-02 -1.53644534e-02 -5.01985168e-02  1.84002107e-02\n",
      " -2.06445599e-02 -3.45070033e-02  1.18480344e-02  1.90990987e-02\n",
      "  5.58235872e-02  2.65531801e-02  9.37420273e-02  6.89217319e-02\n",
      "  2.74961172e-02  1.95891639e-02  4.32322061e-02  4.47281765e-02\n",
      "  1.13769937e-02  1.38221754e-02 -2.03644171e-02  1.92173178e-02\n",
      " -1.66721782e-02 -2.89987395e-02 -5.53535823e-02 -4.10058499e-02\n",
      "  3.65816973e-02  1.95321458e+12  3.09661904e-02 -1.12381995e+12\n",
      " -5.17703199e-02 -1.40255565e-01  2.67994450e-02 -1.95321458e+12\n",
      " -1.78031444e-02 -2.03977504e-02  1.12381995e+12  6.09847502e-02\n",
      "  5.95733258e-02 -2.84084362e-02 -2.04932560e-02  1.09977242e-02\n",
      "  1.17253978e-02  3.25624322e-02  4.73014103e-02  2.55315534e-02\n",
      " -1.78313140e-02 -1.42844651e-02  1.85775195e-02  1.18682045e-02]\n"
     ]
    }
   ],
   "source": [
    "# Display the coefficients and the intercept\n",
    "print(lm.intercept_)\n",
    "print(lm.coef_)"
   ]
  },
  {
   "cell_type": "markdown",
   "metadata": {},
   "source": [
    "###### Determining metrics for the Linear model "
   ]
  },
  {
   "cell_type": "code",
   "execution_count": 24,
   "metadata": {},
   "outputs": [
    {
     "name": "stdout",
     "output_type": "stream",
     "text": [
      "r2_score for training data  0.8416676312881833\n",
      "r2_score for testing data  -1.4036691198309659e+24\n",
      "rss for training data  1.9482843027303485\n",
      "rss for testing data  7.630094380095816e+24\n",
      "mse for training data  0.0019082118538005371\n",
      "mse for testing data  1.7420306803871726e+22\n"
     ]
    }
   ],
   "source": [
    "# Generating the predicted values by the model for training and test data\n",
    "y_pred_train = lm.predict(X_train)\n",
    "y_pred_test = lm.predict(X_test)\n",
    "\n",
    "# Determining the r2_score, rss and mse values by the model \n",
    "# for training as well as test data\n",
    "\n",
    "#calculating r2_score\n",
    "metric = []\n",
    "r2_train_lr = r2_score(y_train, y_pred_train)\n",
    "print(\"r2_score for training data \",r2_train_lr)\n",
    "metric.append(r2_train_lr)\n",
    "\n",
    "r2_test_lr = r2_score(y_test, y_pred_test)\n",
    "print(\"r2_score for testing data \",r2_test_lr)\n",
    "metric.append(r2_test_lr)\n",
    "\n",
    "#calculating residual sum of square (rss)\n",
    "rss1_lr = np.sum(np.square(y_train - y_pred_train))\n",
    "print(\"rss for training data \",rss1_lr)\n",
    "metric.append(rss1_lr)\n",
    "\n",
    "rss2_lr = np.sum(np.square(y_test - y_pred_test))\n",
    "print(\"rss for testing data \",rss2_lr)\n",
    "metric.append(rss2_lr)\n",
    "\n",
    "#calculating mean squared error\n",
    "mse_train_lr = mean_squared_error(y_train, y_pred_train)\n",
    "print(\"mse for training data \",mse_train_lr)\n",
    "metric.append(mse_train_lr**0.5)\n",
    "\n",
    "mse_test_lr = mean_squared_error(y_test, y_pred_test)\n",
    "print(\"mse for testing data \",mse_test_lr)\n",
    "metric.append(mse_test_lr**0.5)"
   ]
  },
  {
   "cell_type": "markdown",
   "metadata": {},
   "source": [
    "<Font color=\"Orange\" >As the r2_score is acceptable for the Training data but not acceptable for the Test data <Font>"
   ]
  },
  {
   "cell_type": "markdown",
   "metadata": {},
   "source": [
    "### <Font color=\"Red\"> Ridge Regression Model </Font>\n"
   ]
  },
  {
   "cell_type": "code",
   "execution_count": 25,
   "metadata": {},
   "outputs": [
    {
     "name": "stdout",
     "output_type": "stream",
     "text": [
      "Fitting 8 folds for each of 29 candidates, totalling 232 fits\n"
     ]
    },
    {
     "name": "stderr",
     "output_type": "stream",
     "text": [
      "[Parallel(n_jobs=1)]: Using backend SequentialBackend with 1 concurrent workers.\n",
      "[Parallel(n_jobs=1)]: Done 232 out of 232 | elapsed:    2.0s finished\n"
     ]
    },
    {
     "data": {
      "text/plain": [
       "GridSearchCV(cv=8, estimator=Ridge(),\n",
       "             param_grid={'alpha': [1e-05, 0.0001, 0.001, 0.01, 0.05, 0.1, 0.2,\n",
       "                                   0.3, 0.4, 0.5, 0.6, 0.7, 0.8, 0.9, 1.0, 2.0,\n",
       "                                   3.0, 4.0, 5.0, 6.0, 7.0, 8.0, 9.0, 10.0, 20,\n",
       "                                   50, 100, 500, 1000]},\n",
       "             return_train_score=True, scoring='neg_mean_absolute_error',\n",
       "             verbose=1)"
      ]
     },
     "execution_count": 25,
     "metadata": {},
     "output_type": "execute_result"
    }
   ],
   "source": [
    "from sklearn.linear_model import Ridge\n",
    "from sklearn.linear_model import Lasso\n",
    "from sklearn.model_selection import GridSearchCV\n",
    "\n",
    "# list of alphas to tune - if value too high it will lead to underfitting,\n",
    "# if it is too low, it will not handle the overfitting\n",
    "params = {'alpha': [0.00001,0.0001, 0.001, 0.01, 0.05, 0.1, \n",
    " 0.2, 0.3, 0.4, 0.5, 0.6, 0.7, 0.8, 0.9, 1.0, 2.0, 3.0, \n",
    " 4.0, 5.0, 6.0, 7.0, 8.0, 9.0, 10.0, 20, 50, 100, 500, 1000 ]}\n",
    "\n",
    "ridge = Ridge()\n",
    "\n",
    "\n",
    "folds = 8 \n",
    "# Used for cross validation i.e. Validating data in different combinations\n",
    "model_cv = GridSearchCV(estimator = ridge, param_grid = params, \n",
    "                        scoring= 'neg_mean_absolute_error',  \n",
    "                        cv = folds, return_train_score=True, verbose = 1)            \n",
    "model_cv.fit(X_train, y_train) \n"
   ]
  },
  {
   "cell_type": "code",
   "execution_count": 26,
   "metadata": {},
   "outputs": [
    {
     "name": "stdout",
     "output_type": "stream",
     "text": [
      "{'alpha': 0.8}\n"
     ]
    }
   ],
   "source": [
    "# Printing the best hyperparameter alpha\n",
    "print(model_cv.best_params_)"
   ]
  },
  {
   "cell_type": "code",
   "execution_count": 27,
   "metadata": {},
   "outputs": [
    {
     "name": "stdout",
     "output_type": "stream",
     "text": [
      "[ 0.11872918  0.02442839  0.07201147  0.01178368  0.05802939  0.13392946\n",
      "  0.01813785  0.01689752  0.0301426   0.01994954  0.01771844  0.02059957\n",
      "  0.01174177 -0.01380551 -0.03731099  0.01908949 -0.01971696 -0.02737832\n",
      "  0.01172288  0.02392273  0.0542097   0.02122566  0.08917019  0.06575992\n",
      "  0.02624689  0.01787204  0.03903138  0.04097505  0.01162244  0.01311672\n",
      " -0.01961876  0.01688511 -0.01229997 -0.02545174 -0.05594903 -0.04139218\n",
      "  0.02667093  0.00147498  0.03035476  0.01532758 -0.02710382 -0.07204356\n",
      "  0.02044551  0.00147498 -0.01522843 -0.01468172  0.01532758  0.0360872\n",
      "  0.0466043  -0.02477205 -0.02169203  0.01082893  0.0129224   0.0272527\n",
      "  0.03332032  0.01863205 -0.01808987 -0.01497538  0.01337799  0.01345545]\n"
     ]
    }
   ],
   "source": [
    "#Fitting Ridge model for alpha = 0.8 and printing coefficients which have been penalised\n",
    "alpha = model_cv.best_params_['alpha']\n",
    "ridge = Ridge(alpha=alpha)\n",
    "\n",
    "ridge.fit(X_train, y_train)\n",
    "print(ridge.coef_)"
   ]
  },
  {
   "cell_type": "markdown",
   "metadata": {},
   "source": [
    "#### Determining metrics for the Ridge model"
   ]
  },
  {
   "cell_type": "code",
   "execution_count": 28,
   "metadata": {},
   "outputs": [
    {
     "name": "stdout",
     "output_type": "stream",
     "text": [
      "r2_score for training data  0.840304336177706\n",
      "r2_score for testing data  0.8237512180407998\n",
      "rss for training data  1.9650596878606414\n",
      "rss for testing data  0.9580568680513333\n",
      "mse for training data  0.0019246422016264853\n",
      "mse for testing data  0.0021873444476057835\n"
     ]
    }
   ],
   "source": [
    "# Generating the predicted values by the model for training and test data\n",
    "y_pred_train = ridge.predict(X_train)\n",
    "y_pred_test = ridge.predict(X_test)\n",
    "\n",
    "# Determining the r2_score, rss and mse values by the model \n",
    "# for training as well as test data\n",
    "\n",
    "#Calculating r2_score\n",
    "\n",
    "metric2 = []\n",
    "r2_train_lr = r2_score(y_train, y_pred_train)\n",
    "print(\"r2_score for training data \",r2_train_lr)\n",
    "metric2.append(r2_train_lr)\n",
    "\n",
    "r2_test_lr = r2_score(y_test, y_pred_test)\n",
    "print(\"r2_score for testing data \",r2_test_lr)\n",
    "metric2.append(r2_test_lr)\n",
    "\n",
    "#Calculating rss\n",
    "rss1_lr = np.sum(np.square(y_train - y_pred_train))\n",
    "print(\"rss for training data \",rss1_lr)\n",
    "metric2.append(rss1_lr)\n",
    "\n",
    "rss2_lr = np.sum(np.square(y_test - y_pred_test))\n",
    "print(\"rss for testing data \",rss2_lr)\n",
    "metric2.append(rss2_lr)\n",
    "\n",
    "#Calculating mss\n",
    "mse_train_lr = mean_squared_error(y_train, y_pred_train)\n",
    "print(\"mse for training data \",mse_train_lr)\n",
    "metric2.append(mse_train_lr**0.5)\n",
    "\n",
    "mse_test_lr = mean_squared_error(y_test, y_pred_test)\n",
    "print(\"mse for testing data \",mse_test_lr)\n",
    "metric2.append(mse_test_lr**0.5)"
   ]
  },
  {
   "cell_type": "markdown",
   "metadata": {},
   "source": [
    "<Font color=\"Orange\" >The r2_score is acceptable for the Training and the Test data </Font>"
   ]
  },
  {
   "cell_type": "markdown",
   "metadata": {},
   "source": [
    "#### Doubling the alpha value for the Ridge regression model"
   ]
  },
  {
   "cell_type": "code",
   "execution_count": 29,
   "metadata": {},
   "outputs": [
    {
     "name": "stdout",
     "output_type": "stream",
     "text": [
      "[ 0.09248482  0.02514442  0.06940863  0.01227338  0.05575013  0.11229135\n",
      "  0.01897941  0.01647678  0.03007383  0.01931533  0.0178313   0.02122092\n",
      "  0.01096951 -0.01316216 -0.0297111   0.01951163 -0.01892825 -0.0228588\n",
      "  0.01115973  0.02602678  0.05253349  0.01763723  0.0868595   0.06371635\n",
      "  0.02476624  0.01586404  0.03538115  0.03764454  0.01157278  0.0124287\n",
      " -0.01814898  0.01506336 -0.01039992 -0.02374864 -0.05557074 -0.0415527\n",
      "  0.02088249 -0.00011539  0.02940142  0.01223324 -0.01646759 -0.04677116\n",
      "  0.01628659 -0.00011539 -0.01313918 -0.01060196  0.01223324  0.02654068\n",
      "  0.04024771 -0.0225054  -0.02129455  0.01033452  0.01347516  0.02279921\n",
      "  0.02580013  0.01495407 -0.01819234 -0.01540186  0.01008561  0.01396401]\n",
      "r2_score for training data  0.838385789960715\n",
      "r2_score for testing data  0.8224503253735966\n",
      "rss for training data  1.9886674536575988\n",
      "rss for testing data  0.9651282880098555\n",
      "mse for training data  0.0019477644012317323\n",
      "mse for testing data  0.0022034892420316338\n"
     ]
    }
   ],
   "source": [
    "#Fitting Ridge model for alpha = 0.8 * 2 and displaying the coefficients which have been penalised\n",
    "alpha = 0.8*2\n",
    "ridge = Ridge(alpha=alpha)\n",
    "\n",
    "ridge.fit(X_train, y_train)\n",
    "print(ridge.coef_)\n",
    "\n",
    "# Generating the predicted values by the model for training and test data\n",
    "y_pred_train = ridge.predict(X_train)\n",
    "y_pred_test = ridge.predict(X_test)\n",
    "\n",
    "# Determining the r2_score, rss and mse values by the model \n",
    "# for training as well as test data\n",
    "\n",
    "#Calculating r2_score\n",
    "\n",
    "metric2 = []\n",
    "r2_train_lr = r2_score(y_train, y_pred_train)\n",
    "print(\"r2_score for training data \",r2_train_lr)\n",
    "metric2.append(r2_train_lr)\n",
    "\n",
    "r2_test_lr = r2_score(y_test, y_pred_test)\n",
    "print(\"r2_score for testing data \",r2_test_lr)\n",
    "metric2.append(r2_test_lr)\n",
    "\n",
    "#Calculating rss\n",
    "rss1_lr = np.sum(np.square(y_train - y_pred_train))\n",
    "print(\"rss for training data \",rss1_lr)\n",
    "metric2.append(rss1_lr)\n",
    "\n",
    "rss2_lr = np.sum(np.square(y_test - y_pred_test))\n",
    "print(\"rss for testing data \",rss2_lr)\n",
    "metric2.append(rss2_lr)\n",
    "\n",
    "#Calculating mss\n",
    "mse_train_lr = mean_squared_error(y_train, y_pred_train)\n",
    "print(\"mse for training data \",mse_train_lr)\n",
    "metric2.append(mse_train_lr**0.5)\n",
    "\n",
    "mse_test_lr = mean_squared_error(y_test, y_pred_test)\n",
    "print(\"mse for testing data \",mse_test_lr)\n",
    "metric2.append(mse_test_lr**0.5)"
   ]
  },
  {
   "cell_type": "markdown",
   "metadata": {},
   "source": []
  },
  {
   "cell_type": "markdown",
   "metadata": {},
   "source": [
    "### <Font color=\"Blue\" >Lasso Regression Model </Font>"
   ]
  },
  {
   "cell_type": "code",
   "execution_count": 30,
   "metadata": {},
   "outputs": [
    {
     "name": "stderr",
     "output_type": "stream",
     "text": [
      "[Parallel(n_jobs=1)]: Using backend SequentialBackend with 1 concurrent workers.\n"
     ]
    },
    {
     "name": "stdout",
     "output_type": "stream",
     "text": [
      "Fitting 8 folds for each of 29 candidates, totalling 232 fits\n"
     ]
    },
    {
     "name": "stderr",
     "output_type": "stream",
     "text": [
      "[Parallel(n_jobs=1)]: Done 232 out of 232 | elapsed:    1.8s finished\n"
     ]
    },
    {
     "data": {
      "text/plain": [
       "GridSearchCV(cv=8, estimator=Lasso(),\n",
       "             param_grid={'alpha': [1e-05, 0.0001, 0.001, 0.01, 0.05, 0.1, 0.2,\n",
       "                                   0.3, 0.4, 0.5, 0.6, 0.7, 0.8, 0.9, 1.0, 2.0,\n",
       "                                   3.0, 4.0, 5.0, 6.0, 7.0, 8.0, 9.0, 10.0, 20,\n",
       "                                   50, 100, 500, 1000]},\n",
       "             return_train_score=True, scoring='neg_mean_absolute_error',\n",
       "             verbose=1)"
      ]
     },
     "execution_count": 30,
     "metadata": {},
     "output_type": "execute_result"
    }
   ],
   "source": [
    "lasso = Lasso()\n",
    "folds = 8\n",
    "# Used for cross validation i.e. Validating data in different combinations\n",
    "model_cv = GridSearchCV(estimator = lasso, param_grid = params, \n",
    "                        scoring= 'neg_mean_absolute_error',  \n",
    "                        cv = folds, return_train_score=True, verbose = 1)            \n",
    "model_cv.fit(X_train, y_train)\n",
    "\n"
   ]
  },
  {
   "cell_type": "code",
   "execution_count": 31,
   "metadata": {},
   "outputs": [
    {
     "name": "stdout",
     "output_type": "stream",
     "text": [
      "{'alpha': 0.0001}\n"
     ]
    }
   ],
   "source": [
    "# Displaying the best hyperparameter alpha\n",
    "print(model_cv.best_params_)"
   ]
  },
  {
   "cell_type": "code",
   "execution_count": 32,
   "metadata": {},
   "outputs": [
    {
     "data": {
      "text/plain": [
       "Lasso(alpha=0.0001)"
      ]
     },
     "execution_count": 32,
     "metadata": {},
     "output_type": "execute_result"
    }
   ],
   "source": [
    "#Fitting Ridge model for alpha = 100 and printing coefficients which have been penalised\n",
    "\n",
    "alpha=0.0001 \n",
    "alpha = model_cv.best_params_['alpha']\n",
    "\n",
    "lasso = Lasso(alpha=alpha)\n",
    "        \n",
    "lasso.fit(X_train, y_train) \n"
   ]
  },
  {
   "cell_type": "code",
   "execution_count": 33,
   "metadata": {},
   "outputs": [
    {
     "data": {
      "text/plain": [
       "array([ 1.13359387e-01,  2.48815277e-02,  6.95950768e-02,  1.15536153e-02,\n",
       "        4.21548024e-02,  1.44785311e-01,  1.78903081e-02,  1.42904620e-02,\n",
       "        2.83526447e-02,  1.97438503e-02,  1.80824204e-02,  2.03747034e-02,\n",
       "        6.22303434e-03, -7.67635189e-03, -2.83095913e-02,  1.87014369e-02,\n",
       "       -1.54807603e-02, -0.00000000e+00,  7.26845052e-03,  2.30455270e-02,\n",
       "        5.17887816e-02,  6.62286931e-03,  8.62377221e-02,  6.13033965e-02,\n",
       "        1.79088465e-02,  1.35196297e-02,  3.06098580e-02,  3.04431921e-02,\n",
       "        9.42403192e-03,  0.00000000e+00, -1.38019081e-02,  8.72997343e-03,\n",
       "       -3.87402256e-03, -1.99928182e-02, -5.19963746e-02, -3.99164119e-02,\n",
       "        0.00000000e+00,  0.00000000e+00,  2.13398736e-02,  0.00000000e+00,\n",
       "        0.00000000e+00, -8.38147256e-03,  0.00000000e+00,  0.00000000e+00,\n",
       "       -0.00000000e+00, -0.00000000e+00,  0.00000000e+00,  1.19199766e-02,\n",
       "        3.04744395e-02, -1.84310206e-02, -1.72029981e-02,  1.04419188e-02,\n",
       "        1.11166310e-02,  1.96602288e-02,  1.44432898e-04,  0.00000000e+00,\n",
       "       -1.79913900e-02, -1.58504751e-02,  0.00000000e+00,  1.19179156e-02])"
      ]
     },
     "execution_count": 33,
     "metadata": {},
     "output_type": "execute_result"
    }
   ],
   "source": [
    "lasso.coef_"
   ]
  },
  {
   "cell_type": "markdown",
   "metadata": {},
   "source": [
    "#### Determining metrics for the Lasso Regression model"
   ]
  },
  {
   "cell_type": "code",
   "execution_count": 34,
   "metadata": {},
   "outputs": [
    {
     "name": "stdout",
     "output_type": "stream",
     "text": [
      "r2_score for training data  0.8357552577963208\n",
      "r2_score for testing data  0.8246434662442312\n",
      "2.02103622679864\n",
      "0.9532067663382789\n",
      "0.001979467411164192\n",
      "0.002176271156023468\n"
     ]
    }
   ],
   "source": [
    "\n",
    "y_pred_train = lasso.predict(X_train)\n",
    "y_pred_test = lasso.predict(X_test)\n",
    "\n",
    "metric3 = []\n",
    "r2_train_lr = r2_score(y_train, y_pred_train)\n",
    "print(\"r2_score for training data \",r2_train_lr)\n",
    "metric3.append(r2_train_lr)\n",
    "\n",
    "r2_test_lr = r2_score(y_test, y_pred_test)\n",
    "print(\"r2_score for testing data \",r2_test_lr)\n",
    "metric3.append(r2_test_lr)\n",
    "\n",
    "rss1_lr = np.sum(np.square(y_train - y_pred_train))\n",
    "print(rss1_lr)\n",
    "metric3.append(rss1_lr)\n",
    "\n",
    "rss2_lr = np.sum(np.square(y_test - y_pred_test))\n",
    "print(rss2_lr)\n",
    "metric3.append(rss2_lr)\n",
    "\n",
    "mse_train_lr = mean_squared_error(y_train, y_pred_train)\n",
    "print(mse_train_lr)\n",
    "metric3.append(mse_train_lr**0.5)\n",
    "\n",
    "mse_test_lr = mean_squared_error(y_test, y_pred_test)\n",
    "print(mse_test_lr)\n",
    "metric3.append(mse_test_lr**0.5)\n",
    "\n"
   ]
  },
  {
   "cell_type": "markdown",
   "metadata": {},
   "source": [
    "### <Font color=\"Green\"> A table which contains all the metrics related to Linear, Ridge and Lasso Regression models </Font>"
   ]
  },
  {
   "cell_type": "code",
   "execution_count": 35,
   "metadata": {},
   "outputs": [
    {
     "data": {
      "text/html": [
       "<div>\n",
       "<style scoped>\n",
       "    .dataframe tbody tr th:only-of-type {\n",
       "        vertical-align: middle;\n",
       "    }\n",
       "\n",
       "    .dataframe tbody tr th {\n",
       "        vertical-align: top;\n",
       "    }\n",
       "\n",
       "    .dataframe thead th {\n",
       "        text-align: right;\n",
       "    }\n",
       "</style>\n",
       "<table border=\"1\" class=\"dataframe\">\n",
       "  <thead>\n",
       "    <tr style=\"text-align: right;\">\n",
       "      <th></th>\n",
       "      <th>Metric</th>\n",
       "      <th>Linear Regression</th>\n",
       "      <th>Ridge Regression</th>\n",
       "      <th>Lasso Regression</th>\n",
       "    </tr>\n",
       "  </thead>\n",
       "  <tbody>\n",
       "    <tr>\n",
       "      <th>0</th>\n",
       "      <td>r2 Score (Train)</td>\n",
       "      <td>8.416676e-01</td>\n",
       "      <td>0.838386</td>\n",
       "      <td>0.835755</td>\n",
       "    </tr>\n",
       "    <tr>\n",
       "      <th>1</th>\n",
       "      <td>r2 Score (Test)</td>\n",
       "      <td>-1.403669e+24</td>\n",
       "      <td>0.822450</td>\n",
       "      <td>0.824643</td>\n",
       "    </tr>\n",
       "    <tr>\n",
       "      <th>2</th>\n",
       "      <td>RSS (Train)</td>\n",
       "      <td>1.948284e+00</td>\n",
       "      <td>1.988667</td>\n",
       "      <td>2.021036</td>\n",
       "    </tr>\n",
       "    <tr>\n",
       "      <th>3</th>\n",
       "      <td>RSS (Test)</td>\n",
       "      <td>7.630094e+24</td>\n",
       "      <td>0.965128</td>\n",
       "      <td>0.953207</td>\n",
       "    </tr>\n",
       "    <tr>\n",
       "      <th>4</th>\n",
       "      <td>MSE (Train)</td>\n",
       "      <td>4.368308e-02</td>\n",
       "      <td>0.044133</td>\n",
       "      <td>0.044491</td>\n",
       "    </tr>\n",
       "    <tr>\n",
       "      <th>5</th>\n",
       "      <td>MSE (Test)</td>\n",
       "      <td>1.319860e+11</td>\n",
       "      <td>0.046941</td>\n",
       "      <td>0.046651</td>\n",
       "    </tr>\n",
       "  </tbody>\n",
       "</table>\n",
       "</div>"
      ],
      "text/plain": [
       "             Metric  Linear Regression  Ridge Regression  Lasso Regression\n",
       "0  r2 Score (Train)       8.416676e-01          0.838386          0.835755\n",
       "1   r2 Score (Test)      -1.403669e+24          0.822450          0.824643\n",
       "2       RSS (Train)       1.948284e+00          1.988667          2.021036\n",
       "3        RSS (Test)       7.630094e+24          0.965128          0.953207\n",
       "4       MSE (Train)       4.368308e-02          0.044133          0.044491\n",
       "5        MSE (Test)       1.319860e+11          0.046941          0.046651"
      ]
     },
     "execution_count": 35,
     "metadata": {},
     "output_type": "execute_result"
    }
   ],
   "source": [
    "# The following table contains all the metrics\n",
    "\n",
    "lr_table = {'Metric': ['r2 Score (Train)','r2 Score (Test)','RSS (Train)','RSS (Test)',\n",
    "            'MSE (Train)','MSE (Test)'], 'Linear Regression': metric}\n",
    "\n",
    "lr_metric = pd.DataFrame(lr_table ,columns = ['Metric', 'Linear Regression'] )\n",
    "\n",
    "rg_metric = pd.Series(metric2, name = 'Ridge Regression')\n",
    "ls_metric = pd.Series(metric3, name = 'Lasso Regression')\n",
    "\n",
    "final_metric = pd.concat([lr_metric, rg_metric, ls_metric], axis = 1)\n",
    "\n",
    "final_metric"
   ]
  },
  {
   "cell_type": "markdown",
   "metadata": {},
   "source": [
    "### Checking the effect of doubling the alpha value for Lasso regressions"
   ]
  },
  {
   "cell_type": "code",
   "execution_count": 36,
   "metadata": {
    "scrolled": true
   },
   "outputs": [
    {
     "name": "stdout",
     "output_type": "stream",
     "text": [
      "[ 0.06163708  0.02628856  0.06235908  0.01144997  0.0284042   0.12053198\n",
      "  0.01974922  0.01267863  0.02801786  0.01842147  0.01826995  0.02103775\n",
      "  0.00134569 -0.00280559 -0.00473858  0.01870344 -0.01113615 -0.\n",
      "  0.0041068   0.02367198  0.0465275   0.          0.08437391  0.05656767\n",
      "  0.00977705  0.00840235  0.01917118  0.02000901  0.00871794  0.\n",
      " -0.00430069  0.         -0.         -0.01489164 -0.04993561 -0.03787969\n",
      "  0.         -0.          0.02164504  0.          0.         -0.\n",
      "  0.         -0.         -0.         -0.          0.          0.01163344\n",
      "  0.01600207 -0.01144961 -0.01397917  0.00882593  0.01109488  0.0070511\n",
      "  0.          0.         -0.01730559 -0.01587241  0.          0.01205299]\n",
      "r2_score for training data  0.8291908383641476\n",
      "r2_score for testing data  0.8160356691011377\n",
      "2.1018115947180016\n",
      "0.9999972126611507\n",
      "0.002058581385619982\n",
      "0.002283098659043723\n"
     ]
    }
   ],
   "source": [
    "alpha=0.0001 *2\n",
    "lasso = Lasso(alpha=alpha)\n",
    "\n",
    "lasso.fit(X_train, y_train)\n",
    "print(lasso.coef_)\n",
    "\n",
    "y_pred_train = lasso.predict(X_train)\n",
    "y_pred_test = lasso.predict(X_test)\n",
    "\n",
    "metric3 = []\n",
    "r2_train_lr = r2_score(y_train, y_pred_train)\n",
    "print(\"r2_score for training data \",r2_train_lr)\n",
    "metric3.append(r2_train_lr)\n",
    "\n",
    "r2_test_lr = r2_score(y_test, y_pred_test)\n",
    "print(\"r2_score for testing data \",r2_test_lr)\n",
    "metric3.append(r2_test_lr)\n",
    "\n",
    "rss1_lr = np.sum(np.square(y_train - y_pred_train))\n",
    "print(rss1_lr)\n",
    "metric3.append(rss1_lr)\n",
    "\n",
    "rss2_lr = np.sum(np.square(y_test - y_pred_test))\n",
    "print(rss2_lr)\n",
    "metric3.append(rss2_lr)\n",
    "\n",
    "mse_train_lr = mean_squared_error(y_train, y_pred_train)\n",
    "print(mse_train_lr)\n",
    "metric3.append(mse_train_lr**0.5)\n",
    "\n",
    "mse_test_lr = mean_squared_error(y_test, y_pred_test)\n",
    "print(mse_test_lr)\n",
    "metric3.append(mse_test_lr**0.5)\n"
   ]
  },
  {
   "cell_type": "markdown",
   "metadata": {},
   "source": [
    "### Predicting important predictor variables (using Ridge Regression Model)"
   ]
  },
  {
   "cell_type": "code",
   "execution_count": 37,
   "metadata": {},
   "outputs": [
    {
     "name": "stdout",
     "output_type": "stream",
     "text": [
      "[-0.05557074 -0.04677116 -0.0415527  -0.0297111  -0.02374864 -0.0228588\n",
      " -0.0225054  -0.02129455 -0.01892825 -0.01819234 -0.01814898 -0.01646759\n",
      " -0.01540186 -0.01316216 -0.01313918 -0.01060196 -0.01039992 -0.00011539\n",
      " -0.00011539  0.01008561  0.01033452  0.01096951  0.01115973  0.01157278\n",
      "  0.01223324  0.01223324  0.01227338  0.0124287   0.01347516  0.01396401\n",
      "  0.01495407  0.01506336  0.01586404  0.01628659  0.01647678  0.01763723\n",
      "  0.0178313   0.01897941  0.01931533  0.01951163  0.02088249  0.02122092\n",
      "  0.02279921  0.02476624  0.02514442  0.02580013  0.02602678  0.02654068\n",
      "  0.02940142  0.03007383  0.03538115  0.03764454  0.04024771  0.05253349\n",
      "  0.05575013  0.06371635  0.06940863  0.0868595   0.09248482  0.11229135]\n"
     ]
    }
   ],
   "source": [
    "print(np.sort(ridge.coef_))"
   ]
  },
  {
   "cell_type": "code",
   "execution_count": 38,
   "metadata": {
    "scrolled": true
   },
   "outputs": [
    {
     "name": "stdout",
     "output_type": "stream",
     "text": [
      "BldgType_Twnhs          -0.055571\n",
      "Exterior1st_ImStucc     -0.046771\n",
      "BldgType_TwnhsE         -0.041553\n",
      "LotShape_IR3            -0.029711\n",
      "BldgType_Duplex         -0.023749\n",
      "LotConfig_FR3           -0.022859\n",
      "Exterior2nd_Stucco      -0.022505\n",
      "Exterior2nd_Wd Shng     -0.021295\n",
      "LotConfig_FR2           -0.018928\n",
      "GarageFinish_RFn        -0.018192\n",
      "Condition1_RRAe         -0.018149\n",
      "Exterior1st_CemntBd     -0.016468\n",
      "GarageFinish_Unf        -0.015402\n",
      "GarageCond              -0.013162\n",
      "Exterior2nd_Brk Cmn     -0.013139\n",
      "Exterior2nd_BrkFace     -0.010602\n",
      "BldgType_2fmCon         -0.010400\n",
      "Exterior1st_AsphShn     -0.000115\n",
      "Exterior2nd_AsphShn     -0.000115\n",
      "SaleCondition_AdjLand    0.010086\n",
      "MasVnrType_None          0.010335\n",
      "GarageQual               0.010970\n",
      "Neighborhood_BrkSide     0.011160\n",
      "Condition1_Norm          0.011573\n",
      "Exterior2nd_CBlock       0.012233\n",
      "Exterior1st_CBlock       0.012233\n",
      "ExterQual                0.012273\n",
      "Condition1_PosA          0.012429\n",
      "Foundation_CBlock        0.013475\n",
      "SaleCondition_Partial    0.013964\n",
      "Foundation_Wood          0.014954\n",
      "Condition1_RRAn          0.015063\n",
      "Neighborhood_Somerst     0.015864\n",
      "Exterior1st_Stone        0.016287\n",
      "BsmtHalfBath             0.016477\n",
      "Neighborhood_MeadowV     0.017637\n",
      "KitchenQual              0.017831\n",
      "BsmtFullBath             0.018979\n",
      "HalfBath                 0.019315\n",
      "LotConfig_CulDSac        0.019512\n",
      "RoofStyle_Shed           0.020882\n",
      "GarageCars               0.021221\n",
      "Foundation_Slab          0.022799\n",
      "Neighborhood_SWISU       0.024766\n",
      "OverallQual              0.025144\n",
      "Foundation_Stone         0.025800\n",
      "Neighborhood_ClearCr     0.026027\n",
      "Exterior2nd_CmentBd      0.026541\n",
      "Exterior1st_BrkFace      0.029401\n",
      "FullBath                 0.030074\n",
      "Neighborhood_StoneBr     0.035381\n",
      "Neighborhood_Veenker     0.037645\n",
      "Exterior2nd_ImStucc      0.040248\n",
      "Neighborhood_Crawfor     0.052533\n",
      "BsmtFinSF1               0.055750\n",
      "Neighborhood_NridgHt     0.063716\n",
      "MasVnrArea               0.069409\n",
      "Neighborhood_NoRidge     0.086860\n",
      "LotArea                  0.092485\n",
      "TotalBsmtSF              0.112291\n",
      "dtype: float64\n"
     ]
    }
   ],
   "source": [
    "predictors = X_train.columns\n",
    " \n",
    "coef = pd.Series(ridge.coef_.flatten(),predictors).sort_values()\n",
    "print(coef)\n"
   ]
  },
  {
   "cell_type": "code",
   "execution_count": 40,
   "metadata": {},
   "outputs": [
    {
     "data": {
      "image/png": "[encoded data removed]",
      "text/plain": [
       "<Figure size 1008x720 with 1 Axes>"
      ]
     },
     "metadata": {
      "needs_background": "light"
     },
     "output_type": "display_data"
    }
   ],
   "source": [
    "plt.figure(figsize=(14,10))\n",
    "coef.plot(kind='bar', title='Model Coefficients')\n",
    "plt.show()"
   ]
  },
  {
   "cell_type": "markdown",
   "metadata": {},
   "source": [
    "#### Rebuilding the model after eliminating the top five predictors"
   ]
  },
  {
   "cell_type": "code",
   "execution_count": 46,
   "metadata": {},
   "outputs": [
    {
     "name": "stdout",
     "output_type": "stream",
     "text": [
      "Fitting 8 folds for each of 29 candidates, totalling 232 fits\n"
     ]
    },
    {
     "name": "stderr",
     "output_type": "stream",
     "text": [
      "[Parallel(n_jobs=1)]: Using backend SequentialBackend with 1 concurrent workers.\n",
      "[Parallel(n_jobs=1)]: Done 232 out of 232 | elapsed:    2.8s finished\n"
     ]
    }
   ],
   "source": [
    "X = df1.iloc[:,:] # predictors in variable X\n",
    "X=X.drop(['SalePrice','SaleCondition_Partial','SaleCondition_AdjLand', 'GarageFinish_Unf','GarageFinish_RFn','Foundation_Wood'],axis=1)\n",
    "y = df1.loc[:,'SalePrice'] # response variable in Y\n",
    "\n",
    "\n",
    "X_train, X_test, y_train, y_test = train_test_split(X, y, train_size=0.7,test_size = 0.3,random_state=100)\n",
    "\n",
    "lm = LinearRegression()\n",
    "lm.fit(X_train, y_train)\n",
    "\n",
    "#To determine top 70 features\n",
    "rfe = RFE(lm, 70)             # running RFE\n",
    "rfe = rfe.fit(X_train, y_train)\n",
    "list(zip(X_train.columns,rfe.support_,rfe.ranking_))\n",
    "\n",
    "supported_cols = X_train.columns[rfe.support_]\n",
    "\n",
    "params = {'alpha': [0.00001,0.0001, 0.001, 0.01, 0.05, 0.1, \n",
    " 0.2, 0.3, 0.4, 0.5, 0.6, 0.7, 0.8, 0.9, 1.0, 2.0, 3.0, \n",
    " 4.0, 5.0, 6.0, 7.0, 8.0, 9.0, 10.0, 20, 50, 100, 500, 1000 ]}\n",
    "\n",
    "ridge = Ridge()\n",
    "\n",
    "\n",
    "folds = 8 \n",
    "# Used for cross validation i.e. Validating data in different combinations\n",
    "model_cv = GridSearchCV(estimator = ridge, param_grid = params, \n",
    "                        scoring= 'neg_mean_absolute_error',  \n",
    "                        cv = folds, return_train_score=True, verbose = 1)            \n",
    "model_cv.fit(X_train, y_train) \n",
    "\n",
    "alpha = model_cv.best_params_['alpha']\n",
    "ridge = Ridge(alpha=alpha)\n",
    "\n",
    "ridge.fit(X_train, y_train)\n",
    "\n",
    "y_pred_train = ridge.predict(X_train)\n",
    "y_pred_test = ridge.predict(X_test)"
   ]
  },
  {
   "cell_type": "code",
   "execution_count": 48,
   "metadata": {},
   "outputs": [
    {
     "name": "stdout",
     "output_type": "stream",
     "text": [
      "GarageCars              0.016616\n",
      "MasVnrArea              0.017436\n",
      "BsmtFullBath            0.018468\n",
      "Neighborhood_NoRidge    0.031134\n",
      "Neighborhood_NridgHt    0.032039\n",
      "dtype: float64\n"
     ]
    }
   ],
   "source": [
    "#Getting the top five predictors after rebuilding the model\n",
    "predictors = X_train.columns\n",
    "coef = pd.Series(ridge.coef_.flatten(),predictors).sort_values()\n",
    "print(coef.tail())"
   ]
  }
 ],
 "metadata": {
  "kernelspec": {
   "display_name": "Python 3",
   "language": "python",
   "name": "python3"
  },
  "language_info": {
   "codemirror_mode": {
    "name": "ipython",
    "version": 3
   },
   "file_extension": ".py",
   "mimetype": "text/x-python",
   "name": "python",
   "nbconvert_exporter": "python",
   "pygments_lexer": "ipython3",
   "version": "3.8.5"
  }
 },
 "nbformat": 4,
 "nbformat_minor": 4
}
